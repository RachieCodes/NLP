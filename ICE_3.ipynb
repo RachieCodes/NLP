{
  "nbformat": 4,
  "nbformat_minor": 0,
  "metadata": {
    "colab": {
      "name": "ICE_3.ipynb",
      "provenance": [],
      "collapsed_sections": [
        "uxtJzrzGXchm",
        "XWJsFBrePj_o",
        "aNUmlAHIQ9gs",
        "eDGVeoHqrQkF",
        "lixVq2oOP1VP",
        "YtQeRGq9Q_mz",
        "eYE8A-Mk4BKe",
        "O4J8U2pWSc8v"
      ],
      "include_colab_link": true
    },
    "kernelspec": {
      "name": "python3",
      "display_name": "Python 3"
    },
    "language_info": {
      "name": "python"
    }
  },
  "cells": [
    {
      "cell_type": "markdown",
      "metadata": {
        "id": "view-in-github",
        "colab_type": "text"
      },
      "source": [
        "<a href=\"https://colab.research.google.com/github/Rachiesqueek/NPL/blob/main/ICE_3.ipynb\" target=\"_parent\"><img src=\"https://colab.research.google.com/assets/colab-badge.svg\" alt=\"Open In Colab\"/></a>"
      ]
    },
    {
      "cell_type": "markdown",
      "metadata": {
        "id": "K8hFNQohPORn"
      },
      "source": [
        "# **ICE-3: Text Preprocessing Beyond Tokenization**\n",
        "\n",
        "This notebook focuses on preprocessing English text."
      ]
    },
    {
      "cell_type": "code",
      "metadata": {
        "id": "peiyYN47rMy1",
        "colab": {
          "base_uri": "https://localhost:8080/"
        },
        "outputId": "bfefca57-dfac-402c-b5fe-f328a2e061ee"
      },
      "source": [
        "import re\n",
        "\n",
        "# for using NLTK\n",
        "import nltk\n",
        "nltk.download('punkt')\n",
        "nltk.download('stopwords')\n",
        "nltk.download('wordnet')\n",
        "from nltk.corpus import stopwords\n",
        "\n",
        "# for using SpaCy \n",
        "import spacy\n",
        "\n",
        "# for HuggingFace\n",
        "!pip install transformers\n",
        "# !pip install ftfy"
      ],
      "execution_count": null,
      "outputs": [
        {
          "output_type": "stream",
          "name": "stdout",
          "text": [
            "[nltk_data] Downloading package punkt to /root/nltk_data...\n",
            "[nltk_data]   Unzipping tokenizers/punkt.zip.\n",
            "[nltk_data] Downloading package stopwords to /root/nltk_data...\n",
            "[nltk_data]   Unzipping corpora/stopwords.zip.\n",
            "[nltk_data] Downloading package wordnet to /root/nltk_data...\n",
            "[nltk_data]   Unzipping corpora/wordnet.zip.\n",
            "Collecting transformers\n",
            "  Downloading transformers-4.10.2-py3-none-any.whl (2.8 MB)\n",
            "\u001b[K     |████████████████████████████████| 2.8 MB 5.0 MB/s \n",
            "\u001b[?25hCollecting pyyaml>=5.1\n",
            "  Downloading PyYAML-5.4.1-cp37-cp37m-manylinux1_x86_64.whl (636 kB)\n",
            "\u001b[K     |████████████████████████████████| 636 kB 63.0 MB/s \n",
            "\u001b[?25hRequirement already satisfied: numpy>=1.17 in /usr/local/lib/python3.7/dist-packages (from transformers) (1.19.5)\n",
            "Requirement already satisfied: packaging in /usr/local/lib/python3.7/dist-packages (from transformers) (21.0)\n",
            "Requirement already satisfied: importlib-metadata in /usr/local/lib/python3.7/dist-packages (from transformers) (4.8.1)\n",
            "Collecting sacremoses\n",
            "  Downloading sacremoses-0.0.45-py3-none-any.whl (895 kB)\n",
            "\u001b[K     |████████████████████████████████| 895 kB 20.1 MB/s \n",
            "\u001b[?25hCollecting tokenizers<0.11,>=0.10.1\n",
            "  Downloading tokenizers-0.10.3-cp37-cp37m-manylinux_2_5_x86_64.manylinux1_x86_64.manylinux_2_12_x86_64.manylinux2010_x86_64.whl (3.3 MB)\n",
            "\u001b[K     |████████████████████████████████| 3.3 MB 46.9 MB/s \n",
            "\u001b[?25hRequirement already satisfied: requests in /usr/local/lib/python3.7/dist-packages (from transformers) (2.23.0)\n",
            "Requirement already satisfied: tqdm>=4.27 in /usr/local/lib/python3.7/dist-packages (from transformers) (4.62.2)\n",
            "Requirement already satisfied: filelock in /usr/local/lib/python3.7/dist-packages (from transformers) (3.0.12)\n",
            "Requirement already satisfied: regex!=2019.12.17 in /usr/local/lib/python3.7/dist-packages (from transformers) (2019.12.20)\n",
            "Collecting huggingface-hub>=0.0.12\n",
            "  Downloading huggingface_hub-0.0.17-py3-none-any.whl (52 kB)\n",
            "\u001b[K     |████████████████████████████████| 52 kB 1.4 MB/s \n",
            "\u001b[?25hRequirement already satisfied: typing-extensions in /usr/local/lib/python3.7/dist-packages (from huggingface-hub>=0.0.12->transformers) (3.7.4.3)\n",
            "Requirement already satisfied: pyparsing>=2.0.2 in /usr/local/lib/python3.7/dist-packages (from packaging->transformers) (2.4.7)\n",
            "Requirement already satisfied: zipp>=0.5 in /usr/local/lib/python3.7/dist-packages (from importlib-metadata->transformers) (3.5.0)\n",
            "Requirement already satisfied: chardet<4,>=3.0.2 in /usr/local/lib/python3.7/dist-packages (from requests->transformers) (3.0.4)\n",
            "Requirement already satisfied: idna<3,>=2.5 in /usr/local/lib/python3.7/dist-packages (from requests->transformers) (2.10)\n",
            "Requirement already satisfied: urllib3!=1.25.0,!=1.25.1,<1.26,>=1.21.1 in /usr/local/lib/python3.7/dist-packages (from requests->transformers) (1.24.3)\n",
            "Requirement already satisfied: certifi>=2017.4.17 in /usr/local/lib/python3.7/dist-packages (from requests->transformers) (2021.5.30)\n",
            "Requirement already satisfied: joblib in /usr/local/lib/python3.7/dist-packages (from sacremoses->transformers) (1.0.1)\n",
            "Requirement already satisfied: six in /usr/local/lib/python3.7/dist-packages (from sacremoses->transformers) (1.15.0)\n",
            "Requirement already satisfied: click in /usr/local/lib/python3.7/dist-packages (from sacremoses->transformers) (7.1.2)\n",
            "Installing collected packages: tokenizers, sacremoses, pyyaml, huggingface-hub, transformers\n",
            "  Attempting uninstall: pyyaml\n",
            "    Found existing installation: PyYAML 3.13\n",
            "    Uninstalling PyYAML-3.13:\n",
            "      Successfully uninstalled PyYAML-3.13\n",
            "Successfully installed huggingface-hub-0.0.17 pyyaml-5.4.1 sacremoses-0.0.45 tokenizers-0.10.3 transformers-4.10.2\n"
          ]
        }
      ]
    },
    {
      "cell_type": "code",
      "metadata": {
        "id": "Y3Bh5T8sJXFQ"
      },
      "source": [
        "# trick to wrap text to the viewing window for this notebook\n",
        "# Ref: https://stackoverflow.com/questions/58890109/line-wrapping-in-collaboratory-google-results\n",
        "from IPython.display import HTML, display\n",
        "\n",
        "def set_css():\n",
        "  display(HTML('''\n",
        "  <style>\n",
        "    pre {\n",
        "        white-space: pre-wrap;\n",
        "    }\n",
        "  </style>\n",
        "  '''))\n",
        "get_ipython().events.register('pre_run_cell', set_css)"
      ],
      "execution_count": null,
      "outputs": []
    },
    {
      "cell_type": "markdown",
      "metadata": {
        "id": "uxtJzrzGXchm"
      },
      "source": [
        "## **(Tutorial) Tokenizing text using Spacy**\n",
        "\n",
        "Following is a dummy sample of text to demonstrate tokenization in SpaCy. "
      ]
    },
    {
      "cell_type": "code",
      "metadata": {
        "id": "KP9CaD6ufac0",
        "colab": {
          "base_uri": "https://localhost:8080/",
          "height": 153
        },
        "outputId": "be50bc39-7005-4327-bb7d-2f138de84ed9"
      },
      "source": [
        "dummy_text1 = \"\"\"Here is the First Paragraph and this is the First Sentence. Here is the Second Sentence. Now is the Third Sentence. This is the Fourth Sentence of the first paragaraph. This paragraph is ending now with a Fifth Sentence.\n",
        "Now, it is the Second Paragraph and its First Sentence. Here is the Second Sentence. Now is the Third Sentence. This is the Fourth Sentence of the second paragraph. This paragraph is ending now with a Fifth Sentence.\n",
        "Finally, this is the Third Paragraph and is the First Sentence of this paragraph. Here is the Second Sentence. Now is the Third Sentence. This is the Fourth Sentence of the third paragaraph. This paragraph is ending now with a Fifth Sentence.\n",
        "4th paragraph just has one sentence in it.\n",
        "\"\"\"\n",
        "\n",
        "print(dummy_text1)"
      ],
      "execution_count": null,
      "outputs": [
        {
          "output_type": "display_data",
          "data": {
            "text/html": [
              "\n",
              "  <style>\n",
              "    pre {\n",
              "        white-space: pre-wrap;\n",
              "    }\n",
              "  </style>\n",
              "  "
            ],
            "text/plain": [
              "<IPython.core.display.HTML object>"
            ]
          },
          "metadata": {}
        },
        {
          "output_type": "stream",
          "name": "stdout",
          "text": [
            "Here is the First Paragraph and this is the First Sentence. Here is the Second Sentence. Now is the Third Sentence. This is the Fourth Sentence of the first paragaraph. This paragraph is ending now with a Fifth Sentence.\n",
            "Now, it is the Second Paragraph and its First Sentence. Here is the Second Sentence. Now is the Third Sentence. This is the Fourth Sentence of the second paragraph. This paragraph is ending now with a Fifth Sentence.\n",
            "Finally, this is the Third Paragraph and is the First Sentence of this paragraph. Here is the Second Sentence. Now is the Third Sentence. This is the Fourth Sentence of the third paragaraph. This paragraph is ending now with a Fifth Sentence.\n",
            "4th paragraph just has one sentence in it.\n",
            "\n"
          ]
        }
      ]
    },
    {
      "cell_type": "code",
      "metadata": {
        "id": "O6SZCwFAfxfI",
        "colab": {
          "base_uri": "https://localhost:8080/",
          "height": 1000
        },
        "outputId": "a52a44e2-c270-4849-d34a-92f910da42cd"
      },
      "source": [
        "# loads a trained English pipeline with specific preprocessing components\n",
        "nlp = spacy.load('en_core_web_sm')\n",
        "\n",
        "# using SpaCy's tokenizer...\n",
        "doc = nlp(dummy_text1)      # applies the processing pipeline on the text\n",
        "for token in doc:\n",
        "  print(token.text)"
      ],
      "execution_count": null,
      "outputs": [
        {
          "output_type": "display_data",
          "data": {
            "text/html": [
              "\n",
              "  <style>\n",
              "    pre {\n",
              "        white-space: pre-wrap;\n",
              "    }\n",
              "  </style>\n",
              "  "
            ],
            "text/plain": [
              "<IPython.core.display.HTML object>"
            ]
          },
          "metadata": {}
        },
        {
          "output_type": "stream",
          "name": "stdout",
          "text": [
            "Here\n",
            "is\n",
            "the\n",
            "First\n",
            "Paragraph\n",
            "and\n",
            "this\n",
            "is\n",
            "the\n",
            "First\n",
            "Sentence\n",
            ".\n",
            "Here\n",
            "is\n",
            "the\n",
            "Second\n",
            "Sentence\n",
            ".\n",
            "Now\n",
            "is\n",
            "the\n",
            "Third\n",
            "Sentence\n",
            ".\n",
            "This\n",
            "is\n",
            "the\n",
            "Fourth\n",
            "Sentence\n",
            "of\n",
            "the\n",
            "first\n",
            "paragaraph\n",
            ".\n",
            "This\n",
            "paragraph\n",
            "is\n",
            "ending\n",
            "now\n",
            "with\n",
            "a\n",
            "Fifth\n",
            "Sentence\n",
            ".\n",
            "\n",
            "\n",
            "Now\n",
            ",\n",
            "it\n",
            "is\n",
            "the\n",
            "Second\n",
            "Paragraph\n",
            "and\n",
            "its\n",
            "First\n",
            "Sentence\n",
            ".\n",
            "Here\n",
            "is\n",
            "the\n",
            "Second\n",
            "Sentence\n",
            ".\n",
            "Now\n",
            "is\n",
            "the\n",
            "Third\n",
            "Sentence\n",
            ".\n",
            "This\n",
            "is\n",
            "the\n",
            "Fourth\n",
            "Sentence\n",
            "of\n",
            "the\n",
            "second\n",
            "paragraph\n",
            ".\n",
            "This\n",
            "paragraph\n",
            "is\n",
            "ending\n",
            "now\n",
            "with\n",
            "a\n",
            "Fifth\n",
            "Sentence\n",
            ".\n",
            "\n",
            "\n",
            "Finally\n",
            ",\n",
            "this\n",
            "is\n",
            "the\n",
            "Third\n",
            "Paragraph\n",
            "and\n",
            "is\n",
            "the\n",
            "First\n",
            "Sentence\n",
            "of\n",
            "this\n",
            "paragraph\n",
            ".\n",
            "Here\n",
            "is\n",
            "the\n",
            "Second\n",
            "Sentence\n",
            ".\n",
            "Now\n",
            "is\n",
            "the\n",
            "Third\n",
            "Sentence\n",
            ".\n",
            "This\n",
            "is\n",
            "the\n",
            "Fourth\n",
            "Sentence\n",
            "of\n",
            "the\n",
            "third\n",
            "paragaraph\n",
            ".\n",
            "This\n",
            "paragraph\n",
            "is\n",
            "ending\n",
            "now\n",
            "with\n",
            "a\n",
            "Fifth\n",
            "Sentence\n",
            ".\n",
            "\n",
            "\n",
            "4th\n",
            "paragraph\n",
            "just\n",
            "has\n",
            "one\n",
            "sentence\n",
            "in\n",
            "it\n",
            ".\n",
            "\n",
            "\n"
          ]
        }
      ]
    },
    {
      "cell_type": "markdown",
      "metadata": {
        "id": "XWJsFBrePj_o"
      },
      "source": [
        "### **Task 1. Revisiting Tokenization**\n",
        "\n",
        "Whitespace-based tokenization is a naive approach to tokenize text, where the idea is to extract words that are separated by whitespace characters on either sides.\n"
      ]
    },
    {
      "cell_type": "markdown",
      "metadata": {
        "id": "ci59Ry_hQq_C"
      },
      "source": [
        "#### **Question 1a. Implement the naive approach of tokenizing words (whitespace-based) for the text given in the code block below.**\n",
        "\n",
        "**Important Note:** \n",
        "1. DO NOT use any of the existing implementations for tokenization distributed as part of open-source NLP libraries.\n",
        "2. **If your solution uses readily available implementations of tokenizers, you will receive zero credit for this question.**\n",
        "3. Avoid putting additional effort to make an advanced implementation of the custom tokenizer. All your implementation needs to do is split words based on whitespace characters and that's all is expected for this question.\n",
        "4. You can ignore punctuation while building your tokenizer"
      ]
    },
    {
      "cell_type": "code",
      "metadata": {
        "id": "uQI_o_IEfR5j",
        "colab": {
          "base_uri": "https://localhost:8080/",
          "height": 1000
        },
        "outputId": "6fdc142c-5e04-4691-f96c-2548702729f0"
      },
      "source": [
        "inau_text=\"\"\"The custom of delivering an address on Inauguration Day started with the very first Inauguration—George Washington’s—on April 30, 1789. After taking his oath of office on the balcony of Federal Hall in New York City, Washington proceeded to the Senate chamber where he read a speech before members of Congress and other dignitaries. His second Inauguration took place in Philadelphia on March 4, 1793, in the Senate chamber of Congress Hall. There, Washington gave the shortest Inaugural address on record—just 135 words —before repeating the oath of office.\n",
        "Every President since Washington has delivered an Inaugural address. While many of the early Presidents read their addresses before taking the oath, current custom dictates that the Chief Justice of the Supreme Court administer the oath first, followed by the President’s speech.\n",
        "William Henry Harrison delivered the longest Inaugural address, at 8,445 words, on March 4, 1841—a bitterly cold, wet day. He died one month later of pneumonia, believed to have been brought on by prolonged exposure to the elements on his Inauguration Day. John Adams’ Inaugural address, which totaled 2,308 words, contained the longest sentence, at 737 words. After Washington’s second Inaugural address, the next shortest was Franklin D. Roosevelt’s fourth address on January 20, 1945, at just 559 words. Roosevelt had chosen to have a simple Inauguration at the White House in light of the nation’s involvement in World War II.\n",
        "In 1921, Warren G. Harding became the first President to take his oath and deliver his Inaugural address through loud speakers. In 1925, Calvin Coolidge’s Inaugural address was the first to be broadcast nationally by radio. And in 1949, Harry S. Truman became the first President to deliver his Inaugural address over television airwaves.\n",
        "Most Presidents use their Inaugural address to present their vision of America and to set forth their goals for the nation. Some of the most eloquent and powerful speeches are still quoted today. In 1865, in the waning days of the Civil War, Abraham Lincoln stated, “With malice toward none, with charity for all, with firmness in the right as God gives us to see the right, let us strive on to finish the work we are in, to bind up the nation’s wounds, to care for him who shall have borne the battle and for his widow and his orphan, to do all which may achieve and cherish a just and lasting peace among ourselves and with all nations.” In 1933, Franklin D. Roosevelt avowed, “we have nothing to fear but fear itself.” And in 1961, John F. Kennedy declared, “And so my fellow Americans: ask not what your country can do for you—ask what you can do for your country.”\n",
        "Today, Presidents deliver their Inaugural address on the West Front of the Capitol, but this has not always been the case. Until Andrew Jackson’s first Inauguration in 1829, most Presidents spoke in either the House or Senate chambers. Jackson became the first President to take his oath of office and deliver his address on the East Front Portico of the U.S. Capitol in 1829. With few exceptions, the next 37 Inaugurations took place there, until 1981, when Ronald Reagan’s Swearing-In Ceremony and Inaugural address occurred on the West Front Terrace of the Capitol. The West Front has been used ever since.\"\"\"\n",
        "\n",
        "# add your code below this comment and execute it once you have written the code\n",
        "inau_text.split() #Used a text split that splits the text using white spaces.\n"
      ],
      "execution_count": null,
      "outputs": [
        {
          "output_type": "display_data",
          "data": {
            "text/html": [
              "\n",
              "  <style>\n",
              "    pre {\n",
              "        white-space: pre-wrap;\n",
              "    }\n",
              "  </style>\n",
              "  "
            ],
            "text/plain": [
              "<IPython.core.display.HTML object>"
            ]
          },
          "metadata": {}
        },
        {
          "output_type": "execute_result",
          "data": {
            "text/plain": [
              "['The',\n",
              " 'custom',\n",
              " 'of',\n",
              " 'delivering',\n",
              " 'an',\n",
              " 'address',\n",
              " 'on',\n",
              " 'Inauguration',\n",
              " 'Day',\n",
              " 'started',\n",
              " 'with',\n",
              " 'the',\n",
              " 'very',\n",
              " 'first',\n",
              " 'Inauguration—George',\n",
              " 'Washington’s—on',\n",
              " 'April',\n",
              " '30,',\n",
              " '1789.',\n",
              " 'After',\n",
              " 'taking',\n",
              " 'his',\n",
              " 'oath',\n",
              " 'of',\n",
              " 'office',\n",
              " 'on',\n",
              " 'the',\n",
              " 'balcony',\n",
              " 'of',\n",
              " 'Federal',\n",
              " 'Hall',\n",
              " 'in',\n",
              " 'New',\n",
              " 'York',\n",
              " 'City,',\n",
              " 'Washington',\n",
              " 'proceeded',\n",
              " 'to',\n",
              " 'the',\n",
              " 'Senate',\n",
              " 'chamber',\n",
              " 'where',\n",
              " 'he',\n",
              " 'read',\n",
              " 'a',\n",
              " 'speech',\n",
              " 'before',\n",
              " 'members',\n",
              " 'of',\n",
              " 'Congress',\n",
              " 'and',\n",
              " 'other',\n",
              " 'dignitaries.',\n",
              " 'His',\n",
              " 'second',\n",
              " 'Inauguration',\n",
              " 'took',\n",
              " 'place',\n",
              " 'in',\n",
              " 'Philadelphia',\n",
              " 'on',\n",
              " 'March',\n",
              " '4,',\n",
              " '1793,',\n",
              " 'in',\n",
              " 'the',\n",
              " 'Senate',\n",
              " 'chamber',\n",
              " 'of',\n",
              " 'Congress',\n",
              " 'Hall.',\n",
              " 'There,',\n",
              " 'Washington',\n",
              " 'gave',\n",
              " 'the',\n",
              " 'shortest',\n",
              " 'Inaugural',\n",
              " 'address',\n",
              " 'on',\n",
              " 'record—just',\n",
              " '135',\n",
              " 'words',\n",
              " '—before',\n",
              " 'repeating',\n",
              " 'the',\n",
              " 'oath',\n",
              " 'of',\n",
              " 'office.',\n",
              " 'Every',\n",
              " 'President',\n",
              " 'since',\n",
              " 'Washington',\n",
              " 'has',\n",
              " 'delivered',\n",
              " 'an',\n",
              " 'Inaugural',\n",
              " 'address.',\n",
              " 'While',\n",
              " 'many',\n",
              " 'of',\n",
              " 'the',\n",
              " 'early',\n",
              " 'Presidents',\n",
              " 'read',\n",
              " 'their',\n",
              " 'addresses',\n",
              " 'before',\n",
              " 'taking',\n",
              " 'the',\n",
              " 'oath,',\n",
              " 'current',\n",
              " 'custom',\n",
              " 'dictates',\n",
              " 'that',\n",
              " 'the',\n",
              " 'Chief',\n",
              " 'Justice',\n",
              " 'of',\n",
              " 'the',\n",
              " 'Supreme',\n",
              " 'Court',\n",
              " 'administer',\n",
              " 'the',\n",
              " 'oath',\n",
              " 'first,',\n",
              " 'followed',\n",
              " 'by',\n",
              " 'the',\n",
              " 'President’s',\n",
              " 'speech.',\n",
              " 'William',\n",
              " 'Henry',\n",
              " 'Harrison',\n",
              " 'delivered',\n",
              " 'the',\n",
              " 'longest',\n",
              " 'Inaugural',\n",
              " 'address,',\n",
              " 'at',\n",
              " '8,445',\n",
              " 'words,',\n",
              " 'on',\n",
              " 'March',\n",
              " '4,',\n",
              " '1841—a',\n",
              " 'bitterly',\n",
              " 'cold,',\n",
              " 'wet',\n",
              " 'day.',\n",
              " 'He',\n",
              " 'died',\n",
              " 'one',\n",
              " 'month',\n",
              " 'later',\n",
              " 'of',\n",
              " 'pneumonia,',\n",
              " 'believed',\n",
              " 'to',\n",
              " 'have',\n",
              " 'been',\n",
              " 'brought',\n",
              " 'on',\n",
              " 'by',\n",
              " 'prolonged',\n",
              " 'exposure',\n",
              " 'to',\n",
              " 'the',\n",
              " 'elements',\n",
              " 'on',\n",
              " 'his',\n",
              " 'Inauguration',\n",
              " 'Day.',\n",
              " 'John',\n",
              " 'Adams’',\n",
              " 'Inaugural',\n",
              " 'address,',\n",
              " 'which',\n",
              " 'totaled',\n",
              " '2,308',\n",
              " 'words,',\n",
              " 'contained',\n",
              " 'the',\n",
              " 'longest',\n",
              " 'sentence,',\n",
              " 'at',\n",
              " '737',\n",
              " 'words.',\n",
              " 'After',\n",
              " 'Washington’s',\n",
              " 'second',\n",
              " 'Inaugural',\n",
              " 'address,',\n",
              " 'the',\n",
              " 'next',\n",
              " 'shortest',\n",
              " 'was',\n",
              " 'Franklin',\n",
              " 'D.',\n",
              " 'Roosevelt’s',\n",
              " 'fourth',\n",
              " 'address',\n",
              " 'on',\n",
              " 'January',\n",
              " '20,',\n",
              " '1945,',\n",
              " 'at',\n",
              " 'just',\n",
              " '559',\n",
              " 'words.',\n",
              " 'Roosevelt',\n",
              " 'had',\n",
              " 'chosen',\n",
              " 'to',\n",
              " 'have',\n",
              " 'a',\n",
              " 'simple',\n",
              " 'Inauguration',\n",
              " 'at',\n",
              " 'the',\n",
              " 'White',\n",
              " 'House',\n",
              " 'in',\n",
              " 'light',\n",
              " 'of',\n",
              " 'the',\n",
              " 'nation’s',\n",
              " 'involvement',\n",
              " 'in',\n",
              " 'World',\n",
              " 'War',\n",
              " 'II.',\n",
              " 'In',\n",
              " '1921,',\n",
              " 'Warren',\n",
              " 'G.',\n",
              " 'Harding',\n",
              " 'became',\n",
              " 'the',\n",
              " 'first',\n",
              " 'President',\n",
              " 'to',\n",
              " 'take',\n",
              " 'his',\n",
              " 'oath',\n",
              " 'and',\n",
              " 'deliver',\n",
              " 'his',\n",
              " 'Inaugural',\n",
              " 'address',\n",
              " 'through',\n",
              " 'loud',\n",
              " 'speakers.',\n",
              " 'In',\n",
              " '1925,',\n",
              " 'Calvin',\n",
              " 'Coolidge’s',\n",
              " 'Inaugural',\n",
              " 'address',\n",
              " 'was',\n",
              " 'the',\n",
              " 'first',\n",
              " 'to',\n",
              " 'be',\n",
              " 'broadcast',\n",
              " 'nationally',\n",
              " 'by',\n",
              " 'radio.',\n",
              " 'And',\n",
              " 'in',\n",
              " '1949,',\n",
              " 'Harry',\n",
              " 'S.',\n",
              " 'Truman',\n",
              " 'became',\n",
              " 'the',\n",
              " 'first',\n",
              " 'President',\n",
              " 'to',\n",
              " 'deliver',\n",
              " 'his',\n",
              " 'Inaugural',\n",
              " 'address',\n",
              " 'over',\n",
              " 'television',\n",
              " 'airwaves.',\n",
              " 'Most',\n",
              " 'Presidents',\n",
              " 'use',\n",
              " 'their',\n",
              " 'Inaugural',\n",
              " 'address',\n",
              " 'to',\n",
              " 'present',\n",
              " 'their',\n",
              " 'vision',\n",
              " 'of',\n",
              " 'America',\n",
              " 'and',\n",
              " 'to',\n",
              " 'set',\n",
              " 'forth',\n",
              " 'their',\n",
              " 'goals',\n",
              " 'for',\n",
              " 'the',\n",
              " 'nation.',\n",
              " 'Some',\n",
              " 'of',\n",
              " 'the',\n",
              " 'most',\n",
              " 'eloquent',\n",
              " 'and',\n",
              " 'powerful',\n",
              " 'speeches',\n",
              " 'are',\n",
              " 'still',\n",
              " 'quoted',\n",
              " 'today.',\n",
              " 'In',\n",
              " '1865,',\n",
              " 'in',\n",
              " 'the',\n",
              " 'waning',\n",
              " 'days',\n",
              " 'of',\n",
              " 'the',\n",
              " 'Civil',\n",
              " 'War,',\n",
              " 'Abraham',\n",
              " 'Lincoln',\n",
              " 'stated,',\n",
              " '“With',\n",
              " 'malice',\n",
              " 'toward',\n",
              " 'none,',\n",
              " 'with',\n",
              " 'charity',\n",
              " 'for',\n",
              " 'all,',\n",
              " 'with',\n",
              " 'firmness',\n",
              " 'in',\n",
              " 'the',\n",
              " 'right',\n",
              " 'as',\n",
              " 'God',\n",
              " 'gives',\n",
              " 'us',\n",
              " 'to',\n",
              " 'see',\n",
              " 'the',\n",
              " 'right,',\n",
              " 'let',\n",
              " 'us',\n",
              " 'strive',\n",
              " 'on',\n",
              " 'to',\n",
              " 'finish',\n",
              " 'the',\n",
              " 'work',\n",
              " 'we',\n",
              " 'are',\n",
              " 'in,',\n",
              " 'to',\n",
              " 'bind',\n",
              " 'up',\n",
              " 'the',\n",
              " 'nation’s',\n",
              " 'wounds,',\n",
              " 'to',\n",
              " 'care',\n",
              " 'for',\n",
              " 'him',\n",
              " 'who',\n",
              " 'shall',\n",
              " 'have',\n",
              " 'borne',\n",
              " 'the',\n",
              " 'battle',\n",
              " 'and',\n",
              " 'for',\n",
              " 'his',\n",
              " 'widow',\n",
              " 'and',\n",
              " 'his',\n",
              " 'orphan,',\n",
              " 'to',\n",
              " 'do',\n",
              " 'all',\n",
              " 'which',\n",
              " 'may',\n",
              " 'achieve',\n",
              " 'and',\n",
              " 'cherish',\n",
              " 'a',\n",
              " 'just',\n",
              " 'and',\n",
              " 'lasting',\n",
              " 'peace',\n",
              " 'among',\n",
              " 'ourselves',\n",
              " 'and',\n",
              " 'with',\n",
              " 'all',\n",
              " 'nations.”',\n",
              " 'In',\n",
              " '1933,',\n",
              " 'Franklin',\n",
              " 'D.',\n",
              " 'Roosevelt',\n",
              " 'avowed,',\n",
              " '“we',\n",
              " 'have',\n",
              " 'nothing',\n",
              " 'to',\n",
              " 'fear',\n",
              " 'but',\n",
              " 'fear',\n",
              " 'itself.”',\n",
              " 'And',\n",
              " 'in',\n",
              " '1961,',\n",
              " 'John',\n",
              " 'F.',\n",
              " 'Kennedy',\n",
              " 'declared,',\n",
              " '“And',\n",
              " 'so',\n",
              " 'my',\n",
              " 'fellow',\n",
              " 'Americans:',\n",
              " 'ask',\n",
              " 'not',\n",
              " 'what',\n",
              " 'your',\n",
              " 'country',\n",
              " 'can',\n",
              " 'do',\n",
              " 'for',\n",
              " 'you—ask',\n",
              " 'what',\n",
              " 'you',\n",
              " 'can',\n",
              " 'do',\n",
              " 'for',\n",
              " 'your',\n",
              " 'country.”',\n",
              " 'Today,',\n",
              " 'Presidents',\n",
              " 'deliver',\n",
              " 'their',\n",
              " 'Inaugural',\n",
              " 'address',\n",
              " 'on',\n",
              " 'the',\n",
              " 'West',\n",
              " 'Front',\n",
              " 'of',\n",
              " 'the',\n",
              " 'Capitol,',\n",
              " 'but',\n",
              " 'this',\n",
              " 'has',\n",
              " 'not',\n",
              " 'always',\n",
              " 'been',\n",
              " 'the',\n",
              " 'case.',\n",
              " 'Until',\n",
              " 'Andrew',\n",
              " 'Jackson’s',\n",
              " 'first',\n",
              " 'Inauguration',\n",
              " 'in',\n",
              " '1829,',\n",
              " 'most',\n",
              " 'Presidents',\n",
              " 'spoke',\n",
              " 'in',\n",
              " 'either',\n",
              " 'the',\n",
              " 'House',\n",
              " 'or',\n",
              " 'Senate',\n",
              " 'chambers.',\n",
              " 'Jackson',\n",
              " 'became',\n",
              " 'the',\n",
              " 'first',\n",
              " 'President',\n",
              " 'to',\n",
              " 'take',\n",
              " 'his',\n",
              " 'oath',\n",
              " 'of',\n",
              " 'office',\n",
              " 'and',\n",
              " 'deliver',\n",
              " 'his',\n",
              " 'address',\n",
              " 'on',\n",
              " 'the',\n",
              " 'East',\n",
              " 'Front',\n",
              " 'Portico',\n",
              " 'of',\n",
              " 'the',\n",
              " 'U.S.',\n",
              " 'Capitol',\n",
              " 'in',\n",
              " '1829.',\n",
              " 'With',\n",
              " 'few',\n",
              " 'exceptions,',\n",
              " 'the',\n",
              " 'next',\n",
              " '37',\n",
              " 'Inaugurations',\n",
              " 'took',\n",
              " 'place',\n",
              " 'there,',\n",
              " 'until',\n",
              " '1981,',\n",
              " 'when',\n",
              " 'Ronald',\n",
              " 'Reagan’s',\n",
              " 'Swearing-In',\n",
              " 'Ceremony',\n",
              " 'and',\n",
              " 'Inaugural',\n",
              " 'address',\n",
              " 'occurred',\n",
              " 'on',\n",
              " 'the',\n",
              " 'West',\n",
              " 'Front',\n",
              " 'Terrace',\n",
              " 'of',\n",
              " 'the',\n",
              " 'Capitol.',\n",
              " 'The',\n",
              " 'West',\n",
              " 'Front',\n",
              " 'has',\n",
              " 'been',\n",
              " 'used',\n",
              " 'ever',\n",
              " 'since.']"
            ]
          },
          "metadata": {},
          "execution_count": 18
        }
      ]
    },
    {
      "cell_type": "markdown",
      "metadata": {
        "id": "jC3EqwmTSswZ"
      },
      "source": [
        "#### **Question 1b. For the same text in Q1., apply the tokenizers listed below. Analyze how the words are being tokenized by each of the tokenizers. Compare and contrast the outputs of the two tokenization schemes.**\n",
        "1. **NLTK's tokenizer**\n",
        "2. **SpaCy's tokenizer**\n",
        "\n",
        "**Note:** You are already familiar with using NLTK's tokenization which was demosntrated in the previous labs. If you do not remember, just revisit them to refresh your memory."
      ]
    },
    {
      "cell_type": "code",
      "metadata": {
        "id": "D8nGNxYKQqeJ",
        "colab": {
          "base_uri": "https://localhost:8080/",
          "height": 1000
        },
        "outputId": "86fe23a5-5825-4208-baff-f9a0e90ec859"
      },
      "source": [
        "inau_text=\"\"\"The custom of delivering an address on Inauguration Day started with the very first Inauguration—George Washington’s—on April 30, 1789. After taking his oath of office on the balcony of Federal Hall in New York City, Washington proceeded to the Senate chamber where he read a speech before members of Congress and other dignitaries. His second Inauguration took place in Philadelphia on March 4, 1793, in the Senate chamber of Congress Hall. There, Washington gave the shortest Inaugural address on record—just 135 words —before repeating the oath of office.\n",
        "Every President since Washington has delivered an Inaugural address. While many of the early Presidents read their addresses before taking the oath, current custom dictates that the Chief Justice of the Supreme Court administer the oath first, followed by the President’s speech.\n",
        "William Henry Harrison delivered the longest Inaugural address, at 8,445 words, on March 4, 1841—a bitterly cold, wet day. He died one month later of pneumonia, believed to have been brought on by prolonged exposure to the elements on his Inauguration Day. John Adams’ Inaugural address, which totaled 2,308 words, contained the longest sentence, at 737 words. After Washington’s second Inaugural address, the next shortest was Franklin D. Roosevelt’s fourth address on January 20, 1945, at just 559 words. Roosevelt had chosen to have a simple Inauguration at the White House in light of the nation’s involvement in World War II.\n",
        "In 1921, Warren G. Harding became the first President to take his oath and deliver his Inaugural address through loud speakers. In 1925, Calvin Coolidge’s Inaugural address was the first to be broadcast nationally by radio. And in 1949, Harry S. Truman became the first President to deliver his Inaugural address over television airwaves.\n",
        "Most Presidents use their Inaugural address to present their vision of America and to set forth their goals for the nation. Some of the most eloquent and powerful speeches are still quoted today. In 1865, in the waning days of the Civil War, Abraham Lincoln stated, “With malice toward none, with charity for all, with firmness in the right as God gives us to see the right, let us strive on to finish the work we are in, to bind up the nation’s wounds, to care for him who shall have borne the battle and for his widow and his orphan, to do all which may achieve and cherish a just and lasting peace among ourselves and with all nations.” In 1933, Franklin D. Roosevelt avowed, “we have nothing to fear but fear itself.” And in 1961, John F. Kennedy declared, “And so my fellow Americans: ask not what your country can do for you—ask what you can do for your country.”\n",
        "Today, Presidents deliver their Inaugural address on the West Front of the Capitol, but this has not always been the case. Until Andrew Jackson’s first Inauguration in 1829, most Presidents spoke in either the House or Senate chambers. Jackson became the first President to take his oath of office and deliver his address on the East Front Portico of the U.S. Capitol in 1829. With few exceptions, the next 37 Inaugurations took place there, until 1981, when Ronald Reagan’s Swearing-In Ceremony and Inaugural address occurred on the West Front Terrace of the Capitol. The West Front has been used ever since.\"\"\"\n",
        "\n",
        "# add your code below this comment and execute it once you have written the code.\n",
        "# you can additional code cells if need be. make sure to use the text cell provided to answer the question.\n",
        "from nltk.tokenize import word_tokenize #ntlk tokens\n",
        "print(word_tokenize(inau_text))\n",
        "\n",
        "doc = nlp(inau_text) #spaCy's tokenizer\n",
        "for token in doc:\n",
        "  print(token.text)\n"
      ],
      "execution_count": null,
      "outputs": [
        {
          "output_type": "display_data",
          "data": {
            "text/html": [
              "\n",
              "  <style>\n",
              "    pre {\n",
              "        white-space: pre-wrap;\n",
              "    }\n",
              "  </style>\n",
              "  "
            ],
            "text/plain": [
              "<IPython.core.display.HTML object>"
            ]
          },
          "metadata": {}
        },
        {
          "output_type": "stream",
          "name": "stdout",
          "text": [
            "['The', 'custom', 'of', 'delivering', 'an', 'address', 'on', 'Inauguration', 'Day', 'started', 'with', 'the', 'very', 'first', 'Inauguration—George', 'Washington', '’', 's—on', 'April', '30', ',', '1789', '.', 'After', 'taking', 'his', 'oath', 'of', 'office', 'on', 'the', 'balcony', 'of', 'Federal', 'Hall', 'in', 'New', 'York', 'City', ',', 'Washington', 'proceeded', 'to', 'the', 'Senate', 'chamber', 'where', 'he', 'read', 'a', 'speech', 'before', 'members', 'of', 'Congress', 'and', 'other', 'dignitaries', '.', 'His', 'second', 'Inauguration', 'took', 'place', 'in', 'Philadelphia', 'on', 'March', '4', ',', '1793', ',', 'in', 'the', 'Senate', 'chamber', 'of', 'Congress', 'Hall', '.', 'There', ',', 'Washington', 'gave', 'the', 'shortest', 'Inaugural', 'address', 'on', 'record—just', '135', 'words', '—before', 'repeating', 'the', 'oath', 'of', 'office', '.', 'Every', 'President', 'since', 'Washington', 'has', 'delivered', 'an', 'Inaugural', 'address', '.', 'While', 'many', 'of', 'the', 'early', 'Presidents', 'read', 'their', 'addresses', 'before', 'taking', 'the', 'oath', ',', 'current', 'custom', 'dictates', 'that', 'the', 'Chief', 'Justice', 'of', 'the', 'Supreme', 'Court', 'administer', 'the', 'oath', 'first', ',', 'followed', 'by', 'the', 'President', '’', 's', 'speech', '.', 'William', 'Henry', 'Harrison', 'delivered', 'the', 'longest', 'Inaugural', 'address', ',', 'at', '8,445', 'words', ',', 'on', 'March', '4', ',', '1841—a', 'bitterly', 'cold', ',', 'wet', 'day', '.', 'He', 'died', 'one', 'month', 'later', 'of', 'pneumonia', ',', 'believed', 'to', 'have', 'been', 'brought', 'on', 'by', 'prolonged', 'exposure', 'to', 'the', 'elements', 'on', 'his', 'Inauguration', 'Day', '.', 'John', 'Adams', '’', 'Inaugural', 'address', ',', 'which', 'totaled', '2,308', 'words', ',', 'contained', 'the', 'longest', 'sentence', ',', 'at', '737', 'words', '.', 'After', 'Washington', '’', 's', 'second', 'Inaugural', 'address', ',', 'the', 'next', 'shortest', 'was', 'Franklin', 'D.', 'Roosevelt', '’', 's', 'fourth', 'address', 'on', 'January', '20', ',', '1945', ',', 'at', 'just', '559', 'words', '.', 'Roosevelt', 'had', 'chosen', 'to', 'have', 'a', 'simple', 'Inauguration', 'at', 'the', 'White', 'House', 'in', 'light', 'of', 'the', 'nation', '’', 's', 'involvement', 'in', 'World', 'War', 'II', '.', 'In', '1921', ',', 'Warren', 'G.', 'Harding', 'became', 'the', 'first', 'President', 'to', 'take', 'his', 'oath', 'and', 'deliver', 'his', 'Inaugural', 'address', 'through', 'loud', 'speakers', '.', 'In', '1925', ',', 'Calvin', 'Coolidge', '’', 's', 'Inaugural', 'address', 'was', 'the', 'first', 'to', 'be', 'broadcast', 'nationally', 'by', 'radio', '.', 'And', 'in', '1949', ',', 'Harry', 'S.', 'Truman', 'became', 'the', 'first', 'President', 'to', 'deliver', 'his', 'Inaugural', 'address', 'over', 'television', 'airwaves', '.', 'Most', 'Presidents', 'use', 'their', 'Inaugural', 'address', 'to', 'present', 'their', 'vision', 'of', 'America', 'and', 'to', 'set', 'forth', 'their', 'goals', 'for', 'the', 'nation', '.', 'Some', 'of', 'the', 'most', 'eloquent', 'and', 'powerful', 'speeches', 'are', 'still', 'quoted', 'today', '.', 'In', '1865', ',', 'in', 'the', 'waning', 'days', 'of', 'the', 'Civil', 'War', ',', 'Abraham', 'Lincoln', 'stated', ',', '“', 'With', 'malice', 'toward', 'none', ',', 'with', 'charity', 'for', 'all', ',', 'with', 'firmness', 'in', 'the', 'right', 'as', 'God', 'gives', 'us', 'to', 'see', 'the', 'right', ',', 'let', 'us', 'strive', 'on', 'to', 'finish', 'the', 'work', 'we', 'are', 'in', ',', 'to', 'bind', 'up', 'the', 'nation', '’', 's', 'wounds', ',', 'to', 'care', 'for', 'him', 'who', 'shall', 'have', 'borne', 'the', 'battle', 'and', 'for', 'his', 'widow', 'and', 'his', 'orphan', ',', 'to', 'do', 'all', 'which', 'may', 'achieve', 'and', 'cherish', 'a', 'just', 'and', 'lasting', 'peace', 'among', 'ourselves', 'and', 'with', 'all', 'nations.', '”', 'In', '1933', ',', 'Franklin', 'D.', 'Roosevelt', 'avowed', ',', '“', 'we', 'have', 'nothing', 'to', 'fear', 'but', 'fear', 'itself.', '”', 'And', 'in', '1961', ',', 'John', 'F.', 'Kennedy', 'declared', ',', '“', 'And', 'so', 'my', 'fellow', 'Americans', ':', 'ask', 'not', 'what', 'your', 'country', 'can', 'do', 'for', 'you—ask', 'what', 'you', 'can', 'do', 'for', 'your', 'country.', '”', 'Today', ',', 'Presidents', 'deliver', 'their', 'Inaugural', 'address', 'on', 'the', 'West', 'Front', 'of', 'the', 'Capitol', ',', 'but', 'this', 'has', 'not', 'always', 'been', 'the', 'case', '.', 'Until', 'Andrew', 'Jackson', '’', 's', 'first', 'Inauguration', 'in', '1829', ',', 'most', 'Presidents', 'spoke', 'in', 'either', 'the', 'House', 'or', 'Senate', 'chambers', '.', 'Jackson', 'became', 'the', 'first', 'President', 'to', 'take', 'his', 'oath', 'of', 'office', 'and', 'deliver', 'his', 'address', 'on', 'the', 'East', 'Front', 'Portico', 'of', 'the', 'U.S.', 'Capitol', 'in', '1829', '.', 'With', 'few', 'exceptions', ',', 'the', 'next', '37', 'Inaugurations', 'took', 'place', 'there', ',', 'until', '1981', ',', 'when', 'Ronald', 'Reagan', '’', 's', 'Swearing-In', 'Ceremony', 'and', 'Inaugural', 'address', 'occurred', 'on', 'the', 'West', 'Front', 'Terrace', 'of', 'the', 'Capitol', '.', 'The', 'West', 'Front', 'has', 'been', 'used', 'ever', 'since', '.']\n",
            "The\n",
            "custom\n",
            "of\n",
            "delivering\n",
            "an\n",
            "address\n",
            "on\n",
            "Inauguration\n",
            "Day\n",
            "started\n",
            "with\n",
            "the\n",
            "very\n",
            "first\n",
            "Inauguration\n",
            "—\n",
            "George\n",
            "Washington’s\n",
            "—\n",
            "on\n",
            "April\n",
            "30\n",
            ",\n",
            "1789\n",
            ".\n",
            "After\n",
            "taking\n",
            "his\n",
            "oath\n",
            "of\n",
            "office\n",
            "on\n",
            "the\n",
            "balcony\n",
            "of\n",
            "Federal\n",
            "Hall\n",
            "in\n",
            "New\n",
            "York\n",
            "City\n",
            ",\n",
            "Washington\n",
            "proceeded\n",
            "to\n",
            "the\n",
            "Senate\n",
            "chamber\n",
            "where\n",
            "he\n",
            "read\n",
            "a\n",
            "speech\n",
            "before\n",
            "members\n",
            "of\n",
            "Congress\n",
            "and\n",
            "other\n",
            "dignitaries\n",
            ".\n",
            "His\n",
            "second\n",
            "Inauguration\n",
            "took\n",
            "place\n",
            "in\n",
            "Philadelphia\n",
            "on\n",
            "March\n",
            "4\n",
            ",\n",
            "1793\n",
            ",\n",
            "in\n",
            "the\n",
            "Senate\n",
            "chamber\n",
            "of\n",
            "Congress\n",
            "Hall\n",
            ".\n",
            "There\n",
            ",\n",
            "Washington\n",
            "gave\n",
            "the\n",
            "shortest\n",
            "Inaugural\n",
            "address\n",
            "on\n",
            "record\n",
            "—\n",
            "just\n",
            "135\n",
            "words\n",
            "—\n",
            "before\n",
            "repeating\n",
            "the\n",
            "oath\n",
            "of\n",
            "office\n",
            ".\n",
            "\n",
            "\n",
            "Every\n",
            "President\n",
            "since\n",
            "Washington\n",
            "has\n",
            "delivered\n",
            "an\n",
            "Inaugural\n",
            "address\n",
            ".\n",
            "While\n",
            "many\n",
            "of\n",
            "the\n",
            "early\n",
            "Presidents\n",
            "read\n",
            "their\n",
            "addresses\n",
            "before\n",
            "taking\n",
            "the\n",
            "oath\n",
            ",\n",
            "current\n",
            "custom\n",
            "dictates\n",
            "that\n",
            "the\n",
            "Chief\n",
            "Justice\n",
            "of\n",
            "the\n",
            "Supreme\n",
            "Court\n",
            "administer\n",
            "the\n",
            "oath\n",
            "first\n",
            ",\n",
            "followed\n",
            "by\n",
            "the\n",
            "President\n",
            "’s\n",
            "speech\n",
            ".\n",
            "\n",
            "\n",
            "William\n",
            "Henry\n",
            "Harrison\n",
            "delivered\n",
            "the\n",
            "longest\n",
            "Inaugural\n",
            "address\n",
            ",\n",
            "at\n",
            "8,445\n",
            "words\n",
            ",\n",
            "on\n",
            "March\n",
            "4\n",
            ",\n",
            "1841—a\n",
            "bitterly\n",
            "cold\n",
            ",\n",
            "wet\n",
            "day\n",
            ".\n",
            "He\n",
            "died\n",
            "one\n",
            "month\n",
            "later\n",
            "of\n",
            "pneumonia\n",
            ",\n",
            "believed\n",
            "to\n",
            "have\n",
            "been\n",
            "brought\n",
            "on\n",
            "by\n",
            "prolonged\n",
            "exposure\n",
            "to\n",
            "the\n",
            "elements\n",
            "on\n",
            "his\n",
            "Inauguration\n",
            "Day\n",
            ".\n",
            "John\n",
            "Adams\n",
            "’\n",
            "Inaugural\n",
            "address\n",
            ",\n",
            "which\n",
            "totaled\n",
            "2,308\n",
            "words\n",
            ",\n",
            "contained\n",
            "the\n",
            "longest\n",
            "sentence\n",
            ",\n",
            "at\n",
            "737\n",
            "words\n",
            ".\n",
            "After\n",
            "Washington\n",
            "’s\n",
            "second\n",
            "Inaugural\n",
            "address\n",
            ",\n",
            "the\n",
            "next\n",
            "shortest\n",
            "was\n",
            "Franklin\n",
            "D.\n",
            "Roosevelt\n",
            "’s\n",
            "fourth\n",
            "address\n",
            "on\n",
            "January\n",
            "20\n",
            ",\n",
            "1945\n",
            ",\n",
            "at\n",
            "just\n",
            "559\n",
            "words\n",
            ".\n",
            "Roosevelt\n",
            "had\n",
            "chosen\n",
            "to\n",
            "have\n",
            "a\n",
            "simple\n",
            "Inauguration\n",
            "at\n",
            "the\n",
            "White\n",
            "House\n",
            "in\n",
            "light\n",
            "of\n",
            "the\n",
            "nation\n",
            "’s\n",
            "involvement\n",
            "in\n",
            "World\n",
            "War\n",
            "II\n",
            ".\n",
            "\n",
            "\n",
            "In\n",
            "1921\n",
            ",\n",
            "Warren\n",
            "G.\n",
            "Harding\n",
            "became\n",
            "the\n",
            "first\n",
            "President\n",
            "to\n",
            "take\n",
            "his\n",
            "oath\n",
            "and\n",
            "deliver\n",
            "his\n",
            "Inaugural\n",
            "address\n",
            "through\n",
            "loud\n",
            "speakers\n",
            ".\n",
            "In\n",
            "1925\n",
            ",\n",
            "Calvin\n",
            "Coolidge\n",
            "’s\n",
            "Inaugural\n",
            "address\n",
            "was\n",
            "the\n",
            "first\n",
            "to\n",
            "be\n",
            "broadcast\n",
            "nationally\n",
            "by\n",
            "radio\n",
            ".\n",
            "And\n",
            "in\n",
            "1949\n",
            ",\n",
            "Harry\n",
            "S.\n",
            "Truman\n",
            "became\n",
            "the\n",
            "first\n",
            "President\n",
            "to\n",
            "deliver\n",
            "his\n",
            "Inaugural\n",
            "address\n",
            "over\n",
            "television\n",
            "airwaves\n",
            ".\n",
            "\n",
            "\n",
            "Most\n",
            "Presidents\n",
            "use\n",
            "their\n",
            "Inaugural\n",
            "address\n",
            "to\n",
            "present\n",
            "their\n",
            "vision\n",
            "of\n",
            "America\n",
            "and\n",
            "to\n",
            "set\n",
            "forth\n",
            "their\n",
            "goals\n",
            "for\n",
            "the\n",
            "nation\n",
            ".\n",
            "Some\n",
            "of\n",
            "the\n",
            "most\n",
            "eloquent\n",
            "and\n",
            "powerful\n",
            "speeches\n",
            "are\n",
            "still\n",
            "quoted\n",
            "today\n",
            ".\n",
            "In\n",
            "1865\n",
            ",\n",
            "in\n",
            "the\n",
            "waning\n",
            "days\n",
            "of\n",
            "the\n",
            "Civil\n",
            "War\n",
            ",\n",
            "Abraham\n",
            "Lincoln\n",
            "stated\n",
            ",\n",
            "“\n",
            "With\n",
            "malice\n",
            "toward\n",
            "none\n",
            ",\n",
            "with\n",
            "charity\n",
            "for\n",
            "all\n",
            ",\n",
            "with\n",
            "firmness\n",
            "in\n",
            "the\n",
            "right\n",
            "as\n",
            "God\n",
            "gives\n",
            "us\n",
            "to\n",
            "see\n",
            "the\n",
            "right\n",
            ",\n",
            "let\n",
            "us\n",
            "strive\n",
            "on\n",
            "to\n",
            "finish\n",
            "the\n",
            "work\n",
            "we\n",
            "are\n",
            "in\n",
            ",\n",
            "to\n",
            "bind\n",
            "up\n",
            "the\n",
            "nation\n",
            "’s\n",
            "wounds\n",
            ",\n",
            "to\n",
            "care\n",
            "for\n",
            "him\n",
            "who\n",
            "shall\n",
            "have\n",
            "borne\n",
            "the\n",
            "battle\n",
            "and\n",
            "for\n",
            "his\n",
            "widow\n",
            "and\n",
            "his\n",
            "orphan\n",
            ",\n",
            "to\n",
            "do\n",
            "all\n",
            "which\n",
            "may\n",
            "achieve\n",
            "and\n",
            "cherish\n",
            "a\n",
            "just\n",
            "and\n",
            "lasting\n",
            "peace\n",
            "among\n",
            "ourselves\n",
            "and\n",
            "with\n",
            "all\n",
            "nations\n",
            ".\n",
            "”\n",
            "In\n",
            "1933\n",
            ",\n",
            "Franklin\n",
            "D.\n",
            "Roosevelt\n",
            "avowed\n",
            ",\n",
            "“\n",
            "we\n",
            "have\n",
            "nothing\n",
            "to\n",
            "fear\n",
            "but\n",
            "fear\n",
            "itself\n",
            ".\n",
            "”\n",
            "And\n",
            "in\n",
            "1961\n",
            ",\n",
            "John\n",
            "F.\n",
            "Kennedy\n",
            "declared\n",
            ",\n",
            "“\n",
            "And\n",
            "so\n",
            "my\n",
            "fellow\n",
            "Americans\n",
            ":\n",
            "ask\n",
            "not\n",
            "what\n",
            "your\n",
            "country\n",
            "can\n",
            "do\n",
            "for\n",
            "you\n",
            "—\n",
            "ask\n",
            "what\n",
            "you\n",
            "can\n",
            "do\n",
            "for\n",
            "your\n",
            "country\n",
            ".\n",
            "”\n",
            "\n",
            "\n",
            "Today\n",
            ",\n",
            "Presidents\n",
            "deliver\n",
            "their\n",
            "Inaugural\n",
            "address\n",
            "on\n",
            "the\n",
            "West\n",
            "Front\n",
            "of\n",
            "the\n",
            "Capitol\n",
            ",\n",
            "but\n",
            "this\n",
            "has\n",
            "not\n",
            "always\n",
            "been\n",
            "the\n",
            "case\n",
            ".\n",
            "Until\n",
            "Andrew\n",
            "Jackson\n",
            "’s\n",
            "first\n",
            "Inauguration\n",
            "in\n",
            "1829\n",
            ",\n",
            "most\n",
            "Presidents\n",
            "spoke\n",
            "in\n",
            "either\n",
            "the\n",
            "House\n",
            "or\n",
            "Senate\n",
            "chambers\n",
            ".\n",
            "Jackson\n",
            "became\n",
            "the\n",
            "first\n",
            "President\n",
            "to\n",
            "take\n",
            "his\n",
            "oath\n",
            "of\n",
            "office\n",
            "and\n",
            "deliver\n",
            "his\n",
            "address\n",
            "on\n",
            "the\n",
            "East\n",
            "Front\n",
            "Portico\n",
            "of\n",
            "the\n",
            "U.S.\n",
            "Capitol\n",
            "in\n",
            "1829\n",
            ".\n",
            "With\n",
            "few\n",
            "exceptions\n",
            ",\n",
            "the\n",
            "next\n",
            "37\n",
            "Inaugurations\n",
            "took\n",
            "place\n",
            "there\n",
            ",\n",
            "until\n",
            "1981\n",
            ",\n",
            "when\n",
            "Ronald\n",
            "Reagan\n",
            "’s\n",
            "Swearing\n",
            "-\n",
            "In\n",
            "Ceremony\n",
            "and\n",
            "Inaugural\n",
            "address\n",
            "occurred\n",
            "on\n",
            "the\n",
            "West\n",
            "Front\n",
            "Terrace\n",
            "of\n",
            "the\n",
            "Capitol\n",
            ".\n",
            "The\n",
            "West\n",
            "Front\n",
            "has\n",
            "been\n",
            "used\n",
            "ever\n",
            "since\n",
            ".\n"
          ]
        }
      ]
    },
    {
      "cell_type": "markdown",
      "metadata": {
        "id": "4SLPwJPOXKf9"
      },
      "source": [
        "**Answer for Q1b.** For Nltk, the words were printed in an array that seperated the words by white space only. The SpaCy tokenizer prints words in a list while sperating words by punctuation and keeps the white space at the end of the current word being printed."
      ]
    },
    {
      "cell_type": "markdown",
      "metadata": {
        "id": "FgaX-Ck7YYzY"
      },
      "source": [
        "\n",
        "---\n"
      ]
    },
    {
      "cell_type": "markdown",
      "metadata": {
        "id": "aNUmlAHIQ9gs"
      },
      "source": [
        "## **(Tutorial) Stemming and Lemmatization using NLTK**"
      ]
    },
    {
      "cell_type": "markdown",
      "metadata": {
        "id": "4jCebsYwiQxf"
      },
      "source": [
        "Let's see how we can perform stemming and lemmatization using NLTK library..."
      ]
    },
    {
      "cell_type": "code",
      "metadata": {
        "id": "k3M0mDUIiSdu",
        "colab": {
          "base_uri": "https://localhost:8080/",
          "height": 102
        },
        "outputId": "04ca6cce-c774-4c90-eccb-bb8874ce0daf"
      },
      "source": [
        "# importing PorterStemmer class from nltk.stem module\n",
        "from nltk.stem import PorterStemmer\n",
        "porter = PorterStemmer()    # instantiating an object of the PorterStemmer class\n",
        "\n",
        "stem = porter.stem('cats')    # calling the stemmer algorithm on the desired word\n",
        "print(f\"'cats' after stemming: {stem}\")\n",
        "\n",
        "stem = porter.stem('better')\n",
        "print(f\"'better' after stemming: {stem}\")\n",
        "\n",
        "stem = porter.stem('abaci')\n",
        "print(f\"'abaci' after stemming: {stem}\")\n",
        "\n",
        "stem = porter.stem('aardwolves')\n",
        "print(f\"'aardwolves' after stemming: {stem}\")\n",
        "\n",
        "stem = porter.stem('generically')\n",
        "print(f\"'generically' after stemming: {stem}\")"
      ],
      "execution_count": null,
      "outputs": [
        {
          "output_type": "display_data",
          "data": {
            "text/html": [
              "\n",
              "  <style>\n",
              "    pre {\n",
              "        white-space: pre-wrap;\n",
              "    }\n",
              "  </style>\n",
              "  "
            ],
            "text/plain": [
              "<IPython.core.display.HTML object>"
            ]
          },
          "metadata": {}
        },
        {
          "output_type": "stream",
          "name": "stdout",
          "text": [
            "'cats' after stemming: cat\n",
            "'better' after stemming: better\n",
            "'abaci' after stemming: abaci\n",
            "'aardwolves' after stemming: aardwolv\n",
            "'generically' after stemming: gener\n"
          ]
        }
      ]
    },
    {
      "cell_type": "code",
      "metadata": {
        "id": "6Jo-qgQfjuli",
        "colab": {
          "base_uri": "https://localhost:8080/",
          "height": 187
        },
        "outputId": "1bf46bf2-740c-4ecc-a174-6e6e32a184b8"
      },
      "source": [
        "# importing WordNet-based lemmatizer class from nltk.stem module\n",
        "from nltk.stem import WordNetLemmatizer\n",
        "lemmatizer = WordNetLemmatizer()    # instantiating an object of the WordNetLemmatizer class\n",
        "\n",
        "lemma = lemmatizer.lemmatize('cats')    # calling the lemmatization algorithm on the desired word\n",
        "print(f\"'cats' after lemmatization: {lemma}\")\n",
        "\n",
        "lemma = lemmatizer.lemmatize('better')\n",
        "print(f\"'better' after lemmatization: {lemma}\")\n",
        "\n",
        "lemma = lemmatizer.lemmatize('abaci')\n",
        "print(f\"'abaci' after lemmatization: {lemma}\")\n",
        "\n",
        "lemma = lemmatizer.lemmatize('aardwolves')\n",
        "print(f\"'aardwolves' after lemmatization: {lemma}\")\n",
        "\n",
        "lemma = lemmatizer.lemmatize('generically')\n",
        "print(f\"'generically' after lemmatization: {lemma}\")\n",
        "\n",
        "print(\"\\n\\n\\n\")\n",
        "lemma = lemmatizer.lemmatize('better', pos='a')   # 'a' denoted ADJECTIVE part-of-speech\n",
        "print(f\"'better' (as an adjective) after lemmatization: {lemma}\")"
      ],
      "execution_count": null,
      "outputs": [
        {
          "output_type": "display_data",
          "data": {
            "text/html": [
              "\n",
              "  <style>\n",
              "    pre {\n",
              "        white-space: pre-wrap;\n",
              "    }\n",
              "  </style>\n",
              "  "
            ],
            "text/plain": [
              "<IPython.core.display.HTML object>"
            ]
          },
          "metadata": {}
        },
        {
          "output_type": "stream",
          "name": "stdout",
          "text": [
            "'cats' after lemmatization: cat\n",
            "'better' after lemmatization: better\n",
            "'abaci' after lemmatization: abacus\n",
            "'aardwolves' after lemmatization: aardwolf\n",
            "'generically' after lemmatization: generically\n",
            "\n",
            "\n",
            "\n",
            "\n",
            "'better' (as an adjective) after lemmatization: good\n"
          ]
        }
      ]
    },
    {
      "cell_type": "markdown",
      "metadata": {
        "id": "eDGVeoHqrQkF"
      },
      "source": [
        "### **Task 2: Lemmatization or Stemming?**\n",
        "\n",
        "\n"
      ]
    },
    {
      "cell_type": "markdown",
      "metadata": {
        "id": "l3K_-XgVmKin"
      },
      "source": [
        "Following is the text that you will be using for this task (Task 2 only):"
      ]
    },
    {
      "cell_type": "code",
      "metadata": {
        "id": "TCtK0QouYj2d",
        "colab": {
          "base_uri": "https://localhost:8080/",
          "height": 85
        },
        "outputId": "1c4fa895-a0b4-4ce3-af04-76ab039d8ec6"
      },
      "source": [
        "# This is the text on which you have to perform stemming; taken from Wikipedia.\n",
        "text = \"In linguistic morphology and information retrieval, stemming is the process of reducing inflected (or sometimes derived) words to their word stem, base or root form; generally a written word form. The stem need not be identical to the morphological root of the word; it is usually sufficient that related words map to the same stem, even if this stem is not in itself a valid root.\"\n",
        "print(\"Given text:\")\n",
        "print(text)"
      ],
      "execution_count": null,
      "outputs": [
        {
          "output_type": "display_data",
          "data": {
            "text/html": [
              "\n",
              "  <style>\n",
              "    pre {\n",
              "        white-space: pre-wrap;\n",
              "    }\n",
              "  </style>\n",
              "  "
            ],
            "text/plain": [
              "<IPython.core.display.HTML object>"
            ]
          },
          "metadata": {}
        },
        {
          "output_type": "stream",
          "name": "stdout",
          "text": [
            "Given text:\n",
            "In linguistic morphology and information retrieval, stemming is the process of reducing inflected (or sometimes derived) words to their word stem, base or root form; generally a written word form. The stem need not be identical to the morphological root of the word; it is usually sufficient that related words map to the same stem, even if this stem is not in itself a valid root.\n"
          ]
        }
      ]
    },
    {
      "cell_type": "markdown",
      "metadata": {
        "id": "qxubbVwPmSsO"
      },
      "source": [
        "Performing some preprocessing that we have learnt in previous ICEs..."
      ]
    },
    {
      "cell_type": "code",
      "metadata": {
        "id": "el7w7c7HmY9a",
        "colab": {
          "base_uri": "https://localhost:8080/",
          "height": 187
        },
        "outputId": "075c4b83-8d6c-4241-a552-045362aa2097"
      },
      "source": [
        "en_stopwords = set(stopwords.words('english'))\n",
        "def remove_punc(text_string):\n",
        "  return re.sub('[^a-zA-Z0-9 ]', '', text_string.lower())\n",
        "\n",
        "def remove_stopwords(text_string):\n",
        "  return [ token for token in text_string.split(' ') if token not in en_stopwords ]\n",
        "\n",
        "# applying punctuation removal to the text\n",
        "unpunc_text = remove_punc(text)\n",
        "print(\"After punctuation removal:\")\n",
        "print(unpunc_text)\n",
        "\n",
        "# # applying stopword removal to the text\n",
        "clean_text = remove_stopwords(unpunc_text)\n",
        "print(\"\\n\\nAfter stopword removal:\")\n",
        "print(clean_text)"
      ],
      "execution_count": null,
      "outputs": [
        {
          "output_type": "display_data",
          "data": {
            "text/html": [
              "\n",
              "  <style>\n",
              "    pre {\n",
              "        white-space: pre-wrap;\n",
              "    }\n",
              "  </style>\n",
              "  "
            ],
            "text/plain": [
              "<IPython.core.display.HTML object>"
            ]
          },
          "metadata": {}
        },
        {
          "output_type": "stream",
          "name": "stdout",
          "text": [
            "After punctuation removal:\n",
            "in linguistic morphology and information retrieval stemming is the process of reducing inflected or sometimes derived words to their word stem base or root form generally a written word form the stem need not be identical to the morphological root of the word it is usually sufficient that related words map to the same stem even if this stem is not in itself a valid root\n",
            "\n",
            "\n",
            "After stopword removal:\n",
            "['linguistic', 'morphology', 'information', 'retrieval', 'stemming', 'process', 'reducing', 'inflected', 'sometimes', 'derived', 'words', 'word', 'stem', 'base', 'root', 'form', 'generally', 'written', 'word', 'form', 'stem', 'need', 'identical', 'morphological', 'root', 'word', 'usually', 'sufficient', 'related', 'words', 'map', 'stem', 'even', 'stem', 'valid', 'root']\n"
          ]
        }
      ]
    },
    {
      "cell_type": "markdown",
      "metadata": {
        "id": "Ac5uju7eGVfg"
      },
      "source": [
        "#### **Question 2. Perform stemming on the cleaned text above using the Porter Stemmer from NLTK.**"
      ]
    },
    {
      "cell_type": "code",
      "metadata": {
        "id": "jAC8FFLCErdI",
        "colab": {
          "base_uri": "https://localhost:8080/",
          "height": 629
        },
        "outputId": "7ced7abb-3570-4aa9-ac0f-9ffb7b745986"
      },
      "source": [
        "# apply Porter Stemmer on the cleaned text (after punctuation and stopwords are removed) below this comment\n",
        "from nltk.stem import PorterStemmer\n",
        "porter = PorterStemmer() #porter stemmer is created\n",
        "\n",
        "for word in clean_text:\n",
        "  print(porter.stem(word)) #stems current word\n",
        "\n"
      ],
      "execution_count": null,
      "outputs": [
        {
          "output_type": "display_data",
          "data": {
            "text/html": [
              "\n",
              "  <style>\n",
              "    pre {\n",
              "        white-space: pre-wrap;\n",
              "    }\n",
              "  </style>\n",
              "  "
            ],
            "text/plain": [
              "<IPython.core.display.HTML object>"
            ]
          },
          "metadata": {}
        },
        {
          "output_type": "stream",
          "name": "stdout",
          "text": [
            "linguist\n",
            "morpholog\n",
            "inform\n",
            "retriev\n",
            "stem\n",
            "process\n",
            "reduc\n",
            "inflect\n",
            "sometim\n",
            "deriv\n",
            "word\n",
            "word\n",
            "stem\n",
            "base\n",
            "root\n",
            "form\n",
            "gener\n",
            "written\n",
            "word\n",
            "form\n",
            "stem\n",
            "need\n",
            "ident\n",
            "morpholog\n",
            "root\n",
            "word\n",
            "usual\n",
            "suffici\n",
            "relat\n",
            "word\n",
            "map\n",
            "stem\n",
            "even\n",
            "stem\n",
            "valid\n",
            "root\n"
          ]
        }
      ]
    },
    {
      "cell_type": "markdown",
      "metadata": {
        "id": "N44TNDasS6eK"
      },
      "source": [
        "#### **Question 3. Perform lemmatization on the same cleaned text above using NLTK's lemmatizer.**"
      ]
    },
    {
      "cell_type": "code",
      "metadata": {
        "id": "tJ-moA25Erh3",
        "colab": {
          "base_uri": "https://localhost:8080/",
          "height": 629
        },
        "outputId": "4eca145f-2537-4c30-fbac-7d5889b2bcf7"
      },
      "source": [
        "# apply NLTK's lemmatizer on the cleaned text (after punctuation and stopwords are removed) below this comment\n",
        "from nltk.stem import WordNetLemmatizer\n",
        "lemmatizer = WordNetLemmatizer() #lemma is created\n",
        "\n",
        "for token in clean_text:\n",
        "  lemma = lemmatizer.lemmatize(token) #lemmatizing each word\n",
        "  print(f\"'{token}' after lemmatizing:\\t{lemma}\")\n"
      ],
      "execution_count": null,
      "outputs": [
        {
          "output_type": "display_data",
          "data": {
            "text/html": [
              "\n",
              "  <style>\n",
              "    pre {\n",
              "        white-space: pre-wrap;\n",
              "    }\n",
              "  </style>\n",
              "  "
            ],
            "text/plain": [
              "<IPython.core.display.HTML object>"
            ]
          },
          "metadata": {}
        },
        {
          "output_type": "stream",
          "name": "stdout",
          "text": [
            "'linguistic' after lemmatizing:\tlinguistic\n",
            "'morphology' after lemmatizing:\tmorphology\n",
            "'information' after lemmatizing:\tinformation\n",
            "'retrieval' after lemmatizing:\tretrieval\n",
            "'stemming' after lemmatizing:\tstemming\n",
            "'process' after lemmatizing:\tprocess\n",
            "'reducing' after lemmatizing:\treducing\n",
            "'inflected' after lemmatizing:\tinflected\n",
            "'sometimes' after lemmatizing:\tsometimes\n",
            "'derived' after lemmatizing:\tderived\n",
            "'words' after lemmatizing:\tword\n",
            "'word' after lemmatizing:\tword\n",
            "'stem' after lemmatizing:\tstem\n",
            "'base' after lemmatizing:\tbase\n",
            "'root' after lemmatizing:\troot\n",
            "'form' after lemmatizing:\tform\n",
            "'generally' after lemmatizing:\tgenerally\n",
            "'written' after lemmatizing:\twritten\n",
            "'word' after lemmatizing:\tword\n",
            "'form' after lemmatizing:\tform\n",
            "'stem' after lemmatizing:\tstem\n",
            "'need' after lemmatizing:\tneed\n",
            "'identical' after lemmatizing:\tidentical\n",
            "'morphological' after lemmatizing:\tmorphological\n",
            "'root' after lemmatizing:\troot\n",
            "'word' after lemmatizing:\tword\n",
            "'usually' after lemmatizing:\tusually\n",
            "'sufficient' after lemmatizing:\tsufficient\n",
            "'related' after lemmatizing:\trelated\n",
            "'words' after lemmatizing:\tword\n",
            "'map' after lemmatizing:\tmap\n",
            "'stem' after lemmatizing:\tstem\n",
            "'even' after lemmatizing:\teven\n",
            "'stem' after lemmatizing:\tstem\n",
            "'valid' after lemmatizing:\tvalid\n",
            "'root' after lemmatizing:\troot\n"
          ]
        }
      ]
    },
    {
      "cell_type": "markdown",
      "metadata": {
        "id": "v93jILmOT9mG"
      },
      "source": [
        "#### **Question 4. What do you think is better - Lemmatization or Stemming?**\n",
        "\n",
        "**IMPORTANT NOTE: Substantiate your answer not just based on your observations from solving Questions 2. and 3. but also from your understanding about language in general. Additionally, think about if there are cases where one performs better than the other.**"
      ]
    },
    {
      "cell_type": "markdown",
      "metadata": {
        "id": "wS-ZjxoOURAJ"
      },
      "source": [
        "**Answer for Q4.:** The porter stemmer in this example is better because the words are in a random list. The porter stemmer will stem each word to the general case of all of the words in the list. The lemmatization in this example would be useless because the list has a lot of different words with different parts of speech. Lemmatization would be useful if all of the words were part of the same part of speech like nouns or verbs. A lemmatizatization is also better than a porter stemmer because a porter stemmer will often create words that are incorrect in spelling and meaning when stemmed. "
      ]
    },
    {
      "cell_type": "markdown",
      "metadata": {
        "id": "PJNe9XfmOcqi"
      },
      "source": [
        "---\n"
      ]
    },
    {
      "cell_type": "markdown",
      "metadata": {
        "id": "lixVq2oOP1VP"
      },
      "source": [
        "## **(Tutorial) Sentence Segmentation using Spacy**\n",
        "\n",
        "Following is a dummy paragraph of text to demonstrate how to use SpaCy to segment text into sentences."
      ]
    },
    {
      "cell_type": "code",
      "metadata": {
        "id": "xuFV_nccQq6u",
        "colab": {
          "base_uri": "https://localhost:8080/"
        },
        "outputId": "33c986b0-75e1-4e4a-db60-0f4a052651d0"
      },
      "source": [
        "dummy_text3 = \"\"\"Here is the First Paragraph and this is the First Sentence. Here is the Second Sentence. Now is the Third Sentence. This is the Fourth Sentence of the first paragaraph. This paragraph is ending now with a Fifth Sentence.\n",
        "Now, it is the Second Paragraph and its First Sentence. Here is the Second Sentence. Now is the Third Sentence. This is the Fourth Sentence of the second paragraph. This paragraph is ending now with a Fifth Sentence.\n",
        "Finally, this is the Third Paragraph and is the First Sentence of this paragraph. Here is the Second Sentence. Now is the Third Sentence. This is the Fourth Sentence of the third paragaraph. This paragraph is ending now with a Fifth Sentence.\n",
        "4th paragraph just has one sentence in it.\n",
        "\"\"\"\n",
        "\n",
        "print(dummy_text3)"
      ],
      "execution_count": null,
      "outputs": [
        {
          "output_type": "stream",
          "name": "stdout",
          "text": [
            "Here is the First Paragraph and this is the First Sentence. Here is the Second Sentence. Now is the Third Sentence. This is the Fourth Sentence of the first paragaraph. This paragraph is ending now with a Fifth Sentence.\n",
            "Now, it is the Second Paragraph and its First Sentence. Here is the Second Sentence. Now is the Third Sentence. This is the Fourth Sentence of the second paragraph. This paragraph is ending now with a Fifth Sentence.\n",
            "Finally, this is the Third Paragraph and is the First Sentence of this paragraph. Here is the Second Sentence. Now is the Third Sentence. This is the Fourth Sentence of the third paragaraph. This paragraph is ending now with a Fifth Sentence.\n",
            "4th paragraph just has one sentence in it.\n",
            "\n"
          ]
        }
      ]
    },
    {
      "cell_type": "code",
      "metadata": {
        "id": "BtuBXdrAQC94",
        "colab": {
          "base_uri": "https://localhost:8080/",
          "height": 357
        },
        "outputId": "018e8568-1da9-4aaa-ae1e-bbfd0f2f1076"
      },
      "source": [
        "nlp = spacy.load('en_core_web_sm')\n",
        "\n",
        "# performing sentence splitting...\n",
        "doc = nlp(dummy_text3)\n",
        "for sentence in doc.sents:\n",
        "  print(sentence)"
      ],
      "execution_count": null,
      "outputs": [
        {
          "output_type": "display_data",
          "data": {
            "text/html": [
              "\n",
              "  <style>\n",
              "    pre {\n",
              "        white-space: pre-wrap;\n",
              "    }\n",
              "  </style>\n",
              "  "
            ],
            "text/plain": [
              "<IPython.core.display.HTML object>"
            ]
          },
          "metadata": {}
        },
        {
          "output_type": "stream",
          "name": "stdout",
          "text": [
            "Here is the First Paragraph and this is the First Sentence.\n",
            "Here is the Second Sentence.\n",
            "Now is the Third Sentence.\n",
            "This is the Fourth Sentence of the first paragaraph.\n",
            "This paragraph is ending now with a Fifth Sentence.\n",
            "\n",
            "Now, it is the Second Paragraph and its First Sentence.\n",
            "Here is the Second Sentence.\n",
            "Now is the Third Sentence.\n",
            "This is the Fourth Sentence of the second paragraph.\n",
            "This paragraph is ending now with a Fifth Sentence.\n",
            "\n",
            "Finally, this is the Third Paragraph and is the First Sentence of this paragraph.\n",
            "Here is the Second Sentence.\n",
            "Now is the Third Sentence.\n",
            "This is the Fourth Sentence of the third paragaraph.\n",
            "This paragraph is ending now with a Fifth Sentence.\n",
            "\n",
            "4th paragraph just has one sentence in it.\n",
            "\n"
          ]
        }
      ]
    },
    {
      "cell_type": "markdown",
      "metadata": {
        "id": "YtQeRGq9Q_mz"
      },
      "source": [
        "\n",
        "### **Task 3. Segmenting Sentences**"
      ]
    },
    {
      "cell_type": "markdown",
      "metadata": {
        "id": "RW9TyShiSnt2"
      },
      "source": [
        "For this task, we will be using the [*Inaugural Address*](https://www.inaugural.senate.gov/inaugural-address/) text excerpt that we used in ICE-2."
      ]
    },
    {
      "cell_type": "code",
      "metadata": {
        "id": "Jg4DnVjvSoTi",
        "colab": {
          "base_uri": "https://localhost:8080/",
          "height": 408
        },
        "outputId": "68815cba-ecb9-4325-a4a3-e8d00ca39825"
      },
      "source": [
        "inau_text=\"\"\"The custom of delivering an address on Inauguration Day started with the very first Inauguration—George Washington’s—on April 30, 1789. After taking his oath of office on the balcony of Federal Hall in New York City, Washington proceeded to the Senate chamber where he read a speech before members of Congress and other dignitaries. His second Inauguration took place in Philadelphia on March 4, 1793, in the Senate chamber of Congress Hall. There, Washington gave the shortest Inaugural address on record—just 135 words —before repeating the oath of office.\n",
        "Every President since Washington has delivered an Inaugural address. While many of the early Presidents read their addresses before taking the oath, current custom dictates that the Chief Justice of the Supreme Court administer the oath first, followed by the President’s speech.\n",
        "William Henry Harrison delivered the longest Inaugural address, at 8,445 words, on March 4, 1841—a bitterly cold, wet day. He died one month later of pneumonia, believed to have been brought on by prolonged exposure to the elements on his Inauguration Day. John Adams’ Inaugural address, which totaled 2,308 words, contained the longest sentence, at 737 words. After Washington’s second Inaugural address, the next shortest was Franklin D. Roosevelt’s fourth address on January 20, 1945, at just 559 words. Roosevelt had chosen to have a simple Inauguration at the White House in light of the nation’s involvement in World War II.\n",
        "In 1921, Warren G. Harding became the first President to take his oath and deliver his Inaugural address through loud speakers. In 1925, Calvin Coolidge’s Inaugural address was the first to be broadcast nationally by radio. And in 1949, Harry S. Truman became the first President to deliver his Inaugural address over television airwaves.\n",
        "Most Presidents use their Inaugural address to present their vision of America and to set forth their goals for the nation. Some of the most eloquent and powerful speeches are still quoted today. In 1865, in the waning days of the Civil War, Abraham Lincoln stated, “With malice toward none, with charity for all, with firmness in the right as God gives us to see the right, let us strive on to finish the work we are in, to bind up the nation’s wounds, to care for him who shall have borne the battle and for his widow and his orphan, to do all which may achieve and cherish a just and lasting peace among ourselves and with all nations.” In 1933, Franklin D. Roosevelt avowed, “we have nothing to fear but fear itself.” And in 1961, John F. Kennedy declared, “And so my fellow Americans: ask not what your country can do for you—ask what you can do for your country.”\n",
        "Today, Presidents deliver their Inaugural address on the West Front of the Capitol, but this has not always been the case. Until Andrew Jackson’s first Inauguration in 1829, most Presidents spoke in either the House or Senate chambers. Jackson became the first President to take his oath of office and deliver his address on the East Front Portico of the U.S. Capitol in 1829. With few exceptions, the next 37 Inaugurations took place there, until 1981, when Ronald Reagan’s Swearing-In Ceremony and Inaugural address occurred on the West Front Terrace of the Capitol. The West Front has been used ever since.\"\"\"\n",
        "\n",
        "print(inau_text)"
      ],
      "execution_count": null,
      "outputs": [
        {
          "output_type": "display_data",
          "data": {
            "text/html": [
              "\n",
              "  <style>\n",
              "    pre {\n",
              "        white-space: pre-wrap;\n",
              "    }\n",
              "  </style>\n",
              "  "
            ],
            "text/plain": [
              "<IPython.core.display.HTML object>"
            ]
          },
          "metadata": {}
        },
        {
          "output_type": "stream",
          "name": "stdout",
          "text": [
            "The custom of delivering an address on Inauguration Day started with the very first Inauguration—George Washington’s—on April 30, 1789. After taking his oath of office on the balcony of Federal Hall in New York City, Washington proceeded to the Senate chamber where he read a speech before members of Congress and other dignitaries. His second Inauguration took place in Philadelphia on March 4, 1793, in the Senate chamber of Congress Hall. There, Washington gave the shortest Inaugural address on record—just 135 words —before repeating the oath of office.\n",
            "Every President since Washington has delivered an Inaugural address. While many of the early Presidents read their addresses before taking the oath, current custom dictates that the Chief Justice of the Supreme Court administer the oath first, followed by the President’s speech.\n",
            "William Henry Harrison delivered the longest Inaugural address, at 8,445 words, on March 4, 1841—a bitterly cold, wet day. He died one month later of pneumonia, believed to have been brought on by prolonged exposure to the elements on his Inauguration Day. John Adams’ Inaugural address, which totaled 2,308 words, contained the longest sentence, at 737 words. After Washington’s second Inaugural address, the next shortest was Franklin D. Roosevelt’s fourth address on January 20, 1945, at just 559 words. Roosevelt had chosen to have a simple Inauguration at the White House in light of the nation’s involvement in World War II.\n",
            "In 1921, Warren G. Harding became the first President to take his oath and deliver his Inaugural address through loud speakers. In 1925, Calvin Coolidge’s Inaugural address was the first to be broadcast nationally by radio. And in 1949, Harry S. Truman became the first President to deliver his Inaugural address over television airwaves.\n",
            "Most Presidents use their Inaugural address to present their vision of America and to set forth their goals for the nation. Some of the most eloquent and powerful speeches are still quoted today. In 1865, in the waning days of the Civil War, Abraham Lincoln stated, “With malice toward none, with charity for all, with firmness in the right as God gives us to see the right, let us strive on to finish the work we are in, to bind up the nation’s wounds, to care for him who shall have borne the battle and for his widow and his orphan, to do all which may achieve and cherish a just and lasting peace among ourselves and with all nations.” In 1933, Franklin D. Roosevelt avowed, “we have nothing to fear but fear itself.” And in 1961, John F. Kennedy declared, “And so my fellow Americans: ask not what your country can do for you—ask what you can do for your country.”\n",
            "Today, Presidents deliver their Inaugural address on the West Front of the Capitol, but this has not always been the case. Until Andrew Jackson’s first Inauguration in 1829, most Presidents spoke in either the House or Senate chambers. Jackson became the first President to take his oath of office and deliver his address on the East Front Portico of the U.S. Capitol in 1829. With few exceptions, the next 37 Inaugurations took place there, until 1981, when Ronald Reagan’s Swearing-In Ceremony and Inaugural address occurred on the West Front Terrace of the Capitol. The West Front has been used ever since.\n"
          ]
        }
      ]
    },
    {
      "cell_type": "markdown",
      "metadata": {
        "id": "qVHl6V3eVudZ"
      },
      "source": [
        "#### **Question 5a. Implement a custom Python script that performs a simple way of segmenting sentences in the text above by using the period (.) character as the sentence boundary. Analyze the generated output and provide your observations.**\n",
        "\n",
        "**Note:** You do not need to remove any stopwords, punctuation or apply any kind of other preprocessing techniques. Only perform what's asked to minimize your effort needed to answer this question. \n",
        "\n",
        "**Hint**: Use print( ) to help you understand how the sentences are being split when analyzing your output to note down your observations."
      ]
    },
    {
      "cell_type": "code",
      "metadata": {
        "id": "0ZBRbBDuWogQ",
        "colab": {
          "base_uri": "https://localhost:8080/",
          "height": 646
        },
        "outputId": "c91e3403-f79b-4ce8-d0d3-3b5991b1b747"
      },
      "source": [
        "# write your code below this comment\n",
        "inau_text.split(\".\") #split sentences using the .\n"
      ],
      "execution_count": null,
      "outputs": [
        {
          "output_type": "display_data",
          "data": {
            "text/html": [
              "\n",
              "  <style>\n",
              "    pre {\n",
              "        white-space: pre-wrap;\n",
              "    }\n",
              "  </style>\n",
              "  "
            ],
            "text/plain": [
              "<IPython.core.display.HTML object>"
            ]
          },
          "metadata": {}
        },
        {
          "output_type": "execute_result",
          "data": {
            "text/plain": [
              "['The custom of delivering an address on Inauguration Day started with the very first Inauguration—George Washington’s—on April 30, 1789',\n",
              " ' After taking his oath of office on the balcony of Federal Hall in New York City, Washington proceeded to the Senate chamber where he read a speech before members of Congress and other dignitaries',\n",
              " ' His second Inauguration took place in Philadelphia on March 4, 1793, in the Senate chamber of Congress Hall',\n",
              " ' There, Washington gave the shortest Inaugural address on record—just 135 words —before repeating the oath of office',\n",
              " '\\nEvery President since Washington has delivered an Inaugural address',\n",
              " ' While many of the early Presidents read their addresses before taking the oath, current custom dictates that the Chief Justice of the Supreme Court administer the oath first, followed by the President’s speech',\n",
              " '\\nWilliam Henry Harrison delivered the longest Inaugural address, at 8,445 words, on March 4, 1841—a bitterly cold, wet day',\n",
              " ' He died one month later of pneumonia, believed to have been brought on by prolonged exposure to the elements on his Inauguration Day',\n",
              " ' John Adams’ Inaugural address, which totaled 2,308 words, contained the longest sentence, at 737 words',\n",
              " ' After Washington’s second Inaugural address, the next shortest was Franklin D',\n",
              " ' Roosevelt’s fourth address on January 20, 1945, at just 559 words',\n",
              " ' Roosevelt had chosen to have a simple Inauguration at the White House in light of the nation’s involvement in World War II',\n",
              " '\\nIn 1921, Warren G',\n",
              " ' Harding became the first President to take his oath and deliver his Inaugural address through loud speakers',\n",
              " ' In 1925, Calvin Coolidge’s Inaugural address was the first to be broadcast nationally by radio',\n",
              " ' And in 1949, Harry S',\n",
              " ' Truman became the first President to deliver his Inaugural address over television airwaves',\n",
              " '\\nMost Presidents use their Inaugural address to present their vision of America and to set forth their goals for the nation',\n",
              " ' Some of the most eloquent and powerful speeches are still quoted today',\n",
              " ' In 1865, in the waning days of the Civil War, Abraham Lincoln stated, “With malice toward none, with charity for all, with firmness in the right as God gives us to see the right, let us strive on to finish the work we are in, to bind up the nation’s wounds, to care for him who shall have borne the battle and for his widow and his orphan, to do all which may achieve and cherish a just and lasting peace among ourselves and with all nations',\n",
              " '” In 1933, Franklin D',\n",
              " ' Roosevelt avowed, “we have nothing to fear but fear itself',\n",
              " '” And in 1961, John F',\n",
              " ' Kennedy declared, “And so my fellow Americans: ask not what your country can do for you—ask what you can do for your country',\n",
              " '”\\nToday, Presidents deliver their Inaugural address on the West Front of the Capitol, but this has not always been the case',\n",
              " ' Until Andrew Jackson’s first Inauguration in 1829, most Presidents spoke in either the House or Senate chambers',\n",
              " ' Jackson became the first President to take his oath of office and deliver his address on the East Front Portico of the U',\n",
              " 'S',\n",
              " ' Capitol in 1829',\n",
              " ' With few exceptions, the next 37 Inaugurations took place there, until 1981, when Ronald Reagan’s Swearing-In Ceremony and Inaugural address occurred on the West Front Terrace of the Capitol',\n",
              " ' The West Front has been used ever since',\n",
              " '']"
            ]
          },
          "metadata": {},
          "execution_count": 17
        }
      ]
    },
    {
      "cell_type": "markdown",
      "metadata": {
        "id": "jgKjpvdclM0e"
      },
      "source": [
        "The sentences are put into an array which is split by periods. Some of the sentences are weirdly split due to names and locations like John F. Kennedy and U.S. Capitol."
      ]
    },
    {
      "cell_type": "markdown",
      "metadata": {
        "id": "id9ygYT6Wo6b"
      },
      "source": [
        "#### **Question 5b. Using SpaCy, perform sentence segmentation on the same text (that was used in Q5a.). Analyze the generated output and provide your observations.**\n",
        "\n",
        "**Hint**: Use print( ) to help you understand how the sentences are being split when analyzing your output to note down your observations."
      ]
    },
    {
      "cell_type": "code",
      "metadata": {
        "id": "Urwzg2zNWpD7",
        "colab": {
          "base_uri": "https://localhost:8080/",
          "height": 629
        },
        "outputId": "8bfb7fd3-462b-4d32-cddc-6f667e18458b"
      },
      "source": [
        "# write your code below this comment\n",
        "nlp = spacy.load('en_core_web_sm') #split using SpaCy segemnation \n",
        "\n",
        "# performing sentence splitting...\n",
        "doc = nlp(inau_text)\n",
        "for sentence in doc.sents:\n",
        "  print(sentence)\n"
      ],
      "execution_count": null,
      "outputs": [
        {
          "output_type": "display_data",
          "data": {
            "text/html": [
              "\n",
              "  <style>\n",
              "    pre {\n",
              "        white-space: pre-wrap;\n",
              "    }\n",
              "  </style>\n",
              "  "
            ],
            "text/plain": [
              "<IPython.core.display.HTML object>"
            ]
          },
          "metadata": {}
        },
        {
          "output_type": "stream",
          "name": "stdout",
          "text": [
            "The custom of delivering an address on Inauguration Day started with the very first Inauguration—George Washington’s—on April 30, 1789.\n",
            "After taking his oath of office on the balcony of Federal Hall in New York City, Washington proceeded to the Senate chamber where he read a speech before members of Congress and other dignitaries.\n",
            "His second Inauguration took place in Philadelphia on March 4, 1793, in the Senate chamber of Congress Hall.\n",
            "There, Washington gave the shortest Inaugural address on record—just 135 words —before repeating the oath of office.\n",
            "\n",
            "Every President since Washington has delivered an Inaugural address.\n",
            "While many of the early Presidents read their addresses before taking the oath, current custom dictates that the Chief Justice of the Supreme Court administer the oath first, followed by the President’s speech.\n",
            "\n",
            "William Henry Harrison delivered the longest Inaugural address, at 8,445 words, on March 4, 1841—a bitterly cold, wet day.\n",
            "He died one month later of pneumonia, believed to have been brought on by prolonged exposure to the elements on his Inauguration Day.\n",
            "John Adams’ Inaugural address, which totaled 2,308 words, contained the longest sentence, at 737 words.\n",
            "After Washington’s second Inaugural address, the next shortest was Franklin D. Roosevelt’s fourth address on January 20, 1945, at just 559 words.\n",
            "Roosevelt had chosen to have a simple Inauguration at the White House in light of the nation’s involvement in World War II.\n",
            "\n",
            "In 1921, Warren G. Harding became the first President to take his oath and deliver his Inaugural address through loud speakers.\n",
            "In 1925, Calvin Coolidge’s\n",
            "Inaugural address was the first to be broadcast nationally by radio.\n",
            "And in 1949, Harry S. Truman became the first President to deliver his Inaugural address over television airwaves.\n",
            "\n",
            "Most Presidents use their Inaugural address to present their vision of America and to set forth their goals for the nation.\n",
            "Some of the most eloquent and powerful speeches are still quoted today.\n",
            "In 1865, in the waning days of the Civil War, Abraham Lincoln stated, “With malice toward none, with charity for all, with firmness in the right as God gives us to see the right, let us strive on to finish the work we are in, to bind up the nation’s wounds, to care for him who shall have borne the battle and for his widow and his orphan, to do all which may achieve and cherish a just and lasting peace among ourselves and with all nations.”\n",
            "In 1933, Franklin D. Roosevelt avowed, “we have nothing to fear but fear itself.”\n",
            "And in 1961, John F. Kennedy declared, “\n",
            "And so my fellow Americans: ask not what your country can do for you—ask what you can do for your country.”\n",
            "\n",
            "Today, Presidents deliver their Inaugural address on the West Front of the Capitol, but this has not always been the case.\n",
            "Until Andrew Jackson’s first Inauguration in 1829, most Presidents spoke in either the House or Senate chambers.\n",
            "Jackson became the first President to take his oath of office and deliver his address on the East Front Portico of the U.S. Capitol in 1829.\n",
            "With few exceptions, the next 37 Inaugurations took place there, until 1981, when Ronald Reagan’s Swearing-In Ceremony and Inaugural address occurred on the West Front Terrace of the Capitol.\n",
            "The West Front has been used ever since.\n"
          ]
        }
      ]
    },
    {
      "cell_type": "markdown",
      "metadata": {
        "id": "RiEaJ3RuSmeU"
      },
      "source": [
        "SpaCy's sentence segmentation is a lot easier to read and removes the issues about names/locations are solved. Sentences are now spaced and indented to show how many lines are in a current paragraph. In this example, there are 6 paragraphs. Some of the sentences may have been affected by previous spacing in the text like \"In 1925, Calvin Coolidge's\" which is not a complete senetence.\n",
        "\n",
        "---\n",
        "\n"
      ]
    },
    {
      "cell_type": "markdown",
      "metadata": {
        "id": "eYE8A-Mk4BKe"
      },
      "source": [
        "## **(Tutorial) Subword Tokenization using HuggingFace**"
      ]
    },
    {
      "cell_type": "code",
      "metadata": {
        "id": "bV2KUGEhIm2M",
        "colab": {
          "base_uri": "https://localhost:8080/",
          "height": 408
        },
        "outputId": "9b65015b-4fb2-4578-870c-f00200fcc402"
      },
      "source": [
        "!pip install tokenizers\n",
        "\n",
        "!wget https://s3.amazonaws.com/models.huggingface.co/bert/gpt2-medium-vocab.json\n",
        "!wget https://s3.amazonaws.com/models.huggingface.co/bert/gpt2-merges.txt"
      ],
      "execution_count": null,
      "outputs": [
        {
          "output_type": "display_data",
          "data": {
            "text/html": [
              "\n",
              "  <style>\n",
              "    pre {\n",
              "        white-space: pre-wrap;\n",
              "    }\n",
              "  </style>\n",
              "  "
            ],
            "text/plain": [
              "<IPython.core.display.HTML object>"
            ]
          },
          "metadata": {}
        },
        {
          "output_type": "stream",
          "name": "stdout",
          "text": [
            "Requirement already satisfied: tokenizers in /usr/local/lib/python3.7/dist-packages (0.10.3)\n",
            "--2021-09-18 15:24:01--  https://s3.amazonaws.com/models.huggingface.co/bert/gpt2-medium-vocab.json\n",
            "Resolving s3.amazonaws.com (s3.amazonaws.com)... 52.217.169.16\n",
            "Connecting to s3.amazonaws.com (s3.amazonaws.com)|52.217.169.16|:443... connected.\n",
            "HTTP request sent, awaiting response... 200 OK\n",
            "Length: 1042301 (1018K) [application/json]\n",
            "Saving to: ‘gpt2-medium-vocab.json’\n",
            "\n",
            "gpt2-medium-vocab.j 100%[===================>]   1018K   775KB/s    in 1.3s    \n",
            "\n",
            "2021-09-18 15:24:03 (775 KB/s) - ‘gpt2-medium-vocab.json’ saved [1042301/1042301]\n",
            "\n",
            "--2021-09-18 15:24:03--  https://s3.amazonaws.com/models.huggingface.co/bert/gpt2-merges.txt\n",
            "Resolving s3.amazonaws.com (s3.amazonaws.com)... 52.216.177.13\n",
            "Connecting to s3.amazonaws.com (s3.amazonaws.com)|52.216.177.13|:443... connected.\n",
            "HTTP request sent, awaiting response... 200 OK\n",
            "Length: 456318 (446K) [text/plain]\n",
            "Saving to: ‘gpt2-merges.txt’\n",
            "\n",
            "gpt2-merges.txt     100%[===================>] 445.62K   473KB/s    in 0.9s    \n",
            "\n",
            "2021-09-18 15:24:05 (473 KB/s) - ‘gpt2-merges.txt’ saved [456318/456318]\n",
            "\n"
          ]
        }
      ]
    },
    {
      "cell_type": "code",
      "metadata": {
        "id": "cyiWXf-hLtRF",
        "colab": {
          "base_uri": "https://localhost:8080/",
          "height": 85
        },
        "outputId": "64ac9723-73a2-47f1-c7ab-77aede93a854"
      },
      "source": [
        "from tokenizers import ByteLevelBPETokenizer\n",
        "gpt2vocab = \"gpt2-medium-vocab.json\"\n",
        "gpt2merges = \"gpt2-merges.txt\"\n",
        "\n",
        "bpe = ByteLevelBPETokenizer(gpt2vocab, gpt2merges)\n",
        "bpe_encoding = bpe.encode(\"The custom of delivering an address on Inauguration Day started with the very first Inauguration—George Washington’s—on April 30, 1789.\")\n",
        "print(bpe_encoding.ids)\n",
        "print(bpe_encoding.tokens)"
      ],
      "execution_count": null,
      "outputs": [
        {
          "output_type": "display_data",
          "data": {
            "text/html": [
              "\n",
              "  <style>\n",
              "    pre {\n",
              "        white-space: pre-wrap;\n",
              "    }\n",
              "  </style>\n",
              "  "
            ],
            "text/plain": [
              "<IPython.core.display.HTML object>"
            ]
          },
          "metadata": {}
        },
        {
          "output_type": "stream",
          "name": "stdout",
          "text": [
            "[464, 2183, 286, 13630, 281, 2209, 319, 554, 7493, 3924, 3596, 2067, 351, 262, 845, 717, 554, 7493, 3924, 960, 20191, 2669, 447, 247, 82, 960, 261, 3035, 1542, 11, 1596, 4531, 13]\n",
            "['The', 'Ġcustom', 'Ġof', 'Ġdelivering', 'Ġan', 'Ġaddress', 'Ġon', 'ĠIn', 'aug', 'uration', 'ĠDay', 'Ġstarted', 'Ġwith', 'Ġthe', 'Ġvery', 'Ġfirst', 'ĠIn', 'aug', 'uration', 'âĢĶ', 'George', 'ĠWashington', 'âĢ', 'Ļ', 's', 'âĢĶ', 'on', 'ĠApril', 'Ġ30', ',', 'Ġ17', '89', '.']\n"
          ]
        }
      ]
    },
    {
      "cell_type": "markdown",
      "metadata": {
        "id": "O4J8U2pWSc8v"
      },
      "source": [
        "### **Task 4: Understanding Subword Tokenization**"
      ]
    },
    {
      "cell_type": "markdown",
      "metadata": {
        "id": "yS4dlR20V1eX"
      },
      "source": [
        "Consider the following two sentences:\n",
        "\n",
        "* I like yellow roses better than red ones.\n",
        "* Looks like John is bettering the working conditions at his organization.\n",
        "\n",
        "\n",
        "**Question 6. Encode these sentences using the Byte-Pair Encoding tokenizer (created during the tutorial). Retrieve the tokens from the encodings of the two sentences. Is/Are there any interesting observations when you compare the tokens between the two encodings? What do you think is causing what you observe as part of your comparison?**"
      ]
    },
    {
      "cell_type": "code",
      "metadata": {
        "id": "xhCV2qCPNMGe",
        "colab": {
          "base_uri": "https://localhost:8080/",
          "height": 85
        },
        "outputId": "7bd3725e-be4f-4edf-a119-4f740b62036e"
      },
      "source": [
        "# use the bpe tokenizer that was created during the tutorial to encode the sentences\n",
        "# write your code below this comment and execute\n",
        "# type in your answer to the question asked above in the following cell (see below)\n",
        "from tokenizers import ByteLevelBPETokenizer\n",
        "gpt2vocab = \"gpt2-medium-vocab.json\"\n",
        "gpt2merges = \"gpt2-merges.txt\"\n",
        "\n",
        "bpe = ByteLevelBPETokenizer(gpt2vocab, gpt2merges)\n",
        "bpe_encoding = bpe.encode(\"I like yellow roses better than red ones.\")\n",
        "print(bpe_encoding.ids)\n",
        "print(bpe_encoding.tokens)\n",
        "\n",
        "bpe = ByteLevelBPETokenizer(gpt2vocab, gpt2merges)\n",
        "bpe_encoding = bpe.encode(\"Looks like John is bettering the working conditions at his organization.\")\n",
        "print(bpe_encoding.ids)\n",
        "print(bpe_encoding.tokens)\n",
        "\n"
      ],
      "execution_count": null,
      "outputs": [
        {
          "output_type": "display_data",
          "data": {
            "text/html": [
              "\n",
              "  <style>\n",
              "    pre {\n",
              "        white-space: pre-wrap;\n",
              "    }\n",
              "  </style>\n",
              "  "
            ],
            "text/plain": [
              "<IPython.core.display.HTML object>"
            ]
          },
          "metadata": {}
        },
        {
          "output_type": "stream",
          "name": "stdout",
          "text": [
            "[40, 588, 7872, 42152, 1365, 621, 2266, 3392, 13]\n",
            "['I', 'Ġlike', 'Ġyellow', 'Ġroses', 'Ġbetter', 'Ġthan', 'Ġred', 'Ġones', '.']\n",
            "[41102, 588, 1757, 318, 1365, 278, 262, 1762, 3403, 379, 465, 4009, 13]\n",
            "['Looks', 'Ġlike', 'ĠJohn', 'Ġis', 'Ġbetter', 'ing', 'Ġthe', 'Ġworking', 'Ġconditions', 'Ġat', 'Ġhis', 'Ġorganization', '.']\n"
          ]
        }
      ]
    },
    {
      "cell_type": "markdown",
      "metadata": {
        "id": "DE9RMvKXUcVx"
      },
      "source": [
        "**Answer for Q6.:** The second sentence is longer because it seperates the ing from bettering. Common words also have lower ids like I and periods. Less common words have a higher ids like yellow and looks. This occurs because BPE counts the frequency of each possible symbol pair and picks the pair that occurs the most frequently."
      ]
    }
  ]
}