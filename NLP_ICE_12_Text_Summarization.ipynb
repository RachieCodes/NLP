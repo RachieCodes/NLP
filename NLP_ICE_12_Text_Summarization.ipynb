{
  "nbformat": 4,
  "nbformat_minor": 0,
  "metadata": {
    "colab": {
      "name": "NLP_ICE_12_Text_Summarization.ipynb",
      "provenance": [],
      "collapsed_sections": [],
      "include_colab_link": true
    },
    "kernelspec": {
      "display_name": "Python 3",
      "language": "python",
      "name": "python3"
    },
    "language_info": {
      "codemirror_mode": {
        "name": "ipython",
        "version": 3
      },
      "file_extension": ".py",
      "mimetype": "text/x-python",
      "name": "python",
      "nbconvert_exporter": "python",
      "pygments_lexer": "ipython3",
      "version": "3.6.8"
    }
  },
  "cells": [
    {
      "cell_type": "markdown",
      "metadata": {
        "id": "view-in-github",
        "colab_type": "text"
      },
      "source": [
        "<a href=\"https://colab.research.google.com/github/Rachiesqueek/NPL/blob/main/NLP_ICE_12_Text_Summarization.ipynb\" target=\"_parent\"><img src=\"https://colab.research.google.com/assets/colab-badge.svg\" alt=\"Open In Colab\"/></a>"
      ]
    },
    {
      "cell_type": "markdown",
      "metadata": {
        "id": "vvCxo4PGCI6w"
      },
      "source": [
        "# ICE-12\n",
        "# Text Summarization.\n",
        "This ICE has 3 three tasks. In the first Task you need to execute the tutorial and get the outputs. Understand the tutorial properly. The second task answer should be given theoratically but you can use code if required. The aim of the task is explain the difference between different type of summarizations. Finally, the third task is about usage of dataset in the tutorial code that is already provided."
      ]
    },
    {
      "cell_type": "markdown",
      "metadata": {
        "id": "urnCqZrXAlEj"
      },
      "source": [
        "# Task 1: (20%)\n",
        "## In this task your have to run the tutorial properly. All steps should be followed\n",
        "\n",
        "# Document Summarization\n",
        "\n",
        "The idea of document summarization is a\n",
        "bit different from keyphrase extraction or topic modeling. In this case, the end result\n",
        "is still in the form of some document, but with a few sentences based on the length we\n",
        "might want the summary to be. This is similar to an abstract or an executive summary\n",
        "in a research paper. The main objective of automated document summarization is\n",
        "to perform this summarization without involving human input, except for running\n",
        "computer programs. Mathematical and statistical models help in building and\n",
        "automating the task of summarizing documents by observing their content and context.\n",
        "\n",
        "There are two broad approaches to document summarization using automated\n",
        "techniques. They are described as follows:\n",
        "- __Extraction-based techniques:__ These methods use mathematical\n",
        "and statistical concepts like SVD to extract some key subset of the\n",
        "content from the original document such that this subset of content\n",
        "contains the core information and acts as the focal point of the entire\n",
        "document. This content can be words, phrases, or even sentences.\n",
        "The end result from this approach is a short executive summary of a\n",
        "couple of lines extracted from the original document. No new content\n",
        "is generated in this technique, hence the name extraction-based.\n",
        "- __Abstraction-based techniques:__ These methods are more complex\n",
        "and sophisticated. They leverage language semantics to create\n",
        "representations and use natural language generation (NLG)\n",
        "techniques where the machine uses knowledge bases and semantic\n",
        "representations to generate text on its own and create summaries\n",
        "just like a human would write them. Thanks to deep learning, we can\n",
        "implement these techniques easily but they require a lot of data and\n",
        "compute.\n",
        "\n",
        "We will cover extraction based methods here due to constraints of needed a lot of data + compute for abstraction based methods. "
      ]
    },
    {
      "cell_type": "markdown",
      "metadata": {
        "id": "f9fPZkVFAlEj"
      },
      "source": [
        "# Install necessary dependencies"
      ]
    },
    {
      "cell_type": "code",
      "metadata": {
        "colab": {
          "base_uri": "https://localhost:8080/"
        },
        "id": "7TKqj2jxDWjN",
        "outputId": "033b9cfe-557c-4076-ced3-c6e99c4fb809"
      },
      "source": [
        "import nltk\n",
        "nltk.download('punkt')\n",
        "nltk.download('stopwords')"
      ],
      "execution_count": null,
      "outputs": [
        {
          "output_type": "stream",
          "name": "stdout",
          "text": [
            "[nltk_data] Downloading package punkt to /root/nltk_data...\n",
            "[nltk_data]   Unzipping tokenizers/punkt.zip.\n",
            "[nltk_data] Downloading package stopwords to /root/nltk_data...\n",
            "[nltk_data]   Unzipping corpora/stopwords.zip.\n"
          ]
        },
        {
          "output_type": "execute_result",
          "data": {
            "text/plain": [
              "True"
            ]
          },
          "metadata": {},
          "execution_count": 1
        }
      ]
    },
    {
      "cell_type": "markdown",
      "metadata": {
        "id": "0nFtvsbIAlEk"
      },
      "source": [
        "# Get Text Document\n",
        "\n",
        "We use the description of a very popular role-playing game (RPG) Skyrim from\n",
        "Bethesda Softworks for summarization. "
      ]
    },
    {
      "cell_type": "code",
      "metadata": {
        "id": "-sSrjtPxCZeq"
      },
      "source": [
        "DOCUMENT = \"\"\"\n",
        "The Elder Scrolls V: Skyrim is an action role-playing video game developed by Bethesda Game Studios \n",
        "and published by Bethesda Softworks. It is the fifth main installment in The Elder Scrolls series, \n",
        "following The Elder Scrolls IV: Oblivion.\n",
        "The game's main story revolves around the player character's quest to defeat Alduin the World-Eater, \n",
        "a dragon who is prophesied to destroy the world. The game is set 200 years after the events of Oblivion \n",
        "and takes place in the fictional province of Skyrim. Over the course of the game, the player completes \n",
        "quests and develops the character by improving skills. The game continues the open-world tradition of \n",
        "its predecessors by allowing the player to travel anywhere in the game world at any time, and to ignore \n",
        "or postpone the main storyline indefinitely.\n",
        "The team opted for a unique and more diverse open world than Oblivion's Imperial Province of Cyrodiil, \n",
        "which game director and executive producer Todd Howard considered less interesting by comparison. \n",
        "The game was released to critical acclaim, with reviewers particularly mentioning the character advancement \n",
        "and setting, and is considered to be one of the greatest video games of all time.\n",
        "\n",
        "\n",
        "The Elder Scrolls V: Skyrim is an action role-playing game, playable from either a first or \n",
        "third-person perspective. The player may freely roam over the land of Skyrim which is an open world \n",
        "environment consisting of wilderness expanses, dungeons, cities, towns, fortresses, and villages. \n",
        "Players may navigate the game world more quickly by riding horses or by utilizing a fast-travel system \n",
        "which allows them to warp to previously discovered locations. The game's main quest can be completed or \n",
        "ignored at the player's preference after the first stage of the quest is finished. However, some quests \n",
        "rely on the main storyline being at least partially completed. Non-player characters (NPCs) populate the \n",
        "world and can be interacted with in a number of ways: the player may engage them in conversation, \n",
        "marry an eligible NPC, kill them or engage in a nonlethal \"brawl\". The player may \n",
        "choose to join factions which are organized groups of NPCs — for example, the Dark Brotherhood, a band \n",
        "of assassins. Each of the factions has an associated quest path to progress through. Each city and town \n",
        "in the game world has jobs that the player can engage in, such as farming.\n",
        "\n",
        "Players have the option to develop their character. At the beginning of the game, players create \n",
        "their character by selecting their sex and choosing between one of several races including humans, \n",
        "orcs, elves, and anthropomorphic cat or lizard-like creatures and then customizing their character's \n",
        "appearance. Over the course of the game, players improve their character's skills which are numerical \n",
        "representations of their ability in certain areas. There are eighteen skills divided evenly among the \n",
        "three schools of combat, magic, and stealth. When players have trained skills enough to meet the \n",
        "required experience, their character levels up. Health is depleted primarily when the player \n",
        "takes damage and the loss of all health results in death. Magicka is depleted by the use of spells, \n",
        "certain poisons and by being struck by lightning-based attacks. Stamina determines the player's \n",
        "effectiveness in combat and is depleted by sprinting, performing heavy \"power attacks\" \n",
        "and being struck by frost-based attacks. Skyrim is the first entry in The Elder Scrolls to \n",
        "include dragons in the game's wilderness. Like other creatures, dragons are generated randomly in \n",
        "the world and will engage in combat with NPCs, creatures and the player. Some dragons may attack \n",
        "cities and towns when in their proximity. The player character can absorb the souls of dragons \n",
        "in order to use powerful spells called \"dragon shouts\" or \"Thu'um\". A regeneration \n",
        "period limits the player's use of shouts in gameplay.\n",
        "\n",
        "Skyrim is set around 200 years after the events of The Elder Scrolls IV: Oblivion, although it is \n",
        "not a direct sequel. The game takes place in Skyrim, a province of the Empire on the continent of \n",
        "Tamriel, amid a civil war between two factions: the Stormcloaks, led by Ulfric Stormcloak, and the \n",
        "Imperial Legion, led by General Tullius. The player character is a Dragonborn, a mortal born with \n",
        "the soul and power of a dragon. Alduin, a large black dragon who returns to the land after being \n",
        "lost in time, serves as the game's primary antagonist. Alduin is the first dragon created by Akatosh, \n",
        "one of the series' gods, and is prophesied to destroy and consume the world.\n",
        "\"\"\""
      ],
      "execution_count": null,
      "outputs": []
    },
    {
      "cell_type": "code",
      "metadata": {
        "id": "-Sp4ZBphDBTy"
      },
      "source": [
        "import re\n",
        "\n",
        "DOCUMENT = re.sub(r'\\n|\\r', ' ', DOCUMENT)\n",
        "DOCUMENT = re.sub(r' +', ' ', DOCUMENT)\n",
        "DOCUMENT = DOCUMENT.strip()"
      ],
      "execution_count": null,
      "outputs": []
    },
    {
      "cell_type": "markdown",
      "metadata": {
        "id": "9-YI6eUAAlEm"
      },
      "source": [
        "# Summarization with Gensim\n",
        "\n",
        "Let’s look at an implementation of document summarization by leveraging Gensim’s\n",
        "summarization module. It is pretty straightforward."
      ]
    },
    {
      "cell_type": "code",
      "metadata": {
        "colab": {
          "base_uri": "https://localhost:8080/"
        },
        "id": "fJfaklbaDGm3",
        "outputId": "9ba884c6-b05d-425c-d997-601464f318b6"
      },
      "source": [
        "from gensim.summarization import summarize\n",
        "\n",
        "print(summarize(DOCUMENT, ratio=0.2, split=False))"
      ],
      "execution_count": null,
      "outputs": [
        {
          "output_type": "stream",
          "name": "stdout",
          "text": [
            "The game's main story revolves around the player character's quest to defeat Alduin the World-Eater, a dragon who is prophesied to destroy the world.\n",
            "Over the course of the game, the player completes quests and develops the character by improving skills.\n",
            "The game continues the open-world tradition of its predecessors by allowing the player to travel anywhere in the game world at any time, and to ignore or postpone the main storyline indefinitely.\n",
            "The player may freely roam over the land of Skyrim which is an open world environment consisting of wilderness expanses, dungeons, cities, towns, fortresses, and villages.\n",
            "Each city and town in the game world has jobs that the player can engage in, such as farming.\n",
            "Over the course of the game, players improve their character's skills which are numerical representations of their ability in certain areas.\n",
            "Like other creatures, dragons are generated randomly in the world and will engage in combat with NPCs, creatures and the player.\n"
          ]
        }
      ]
    },
    {
      "cell_type": "code",
      "metadata": {
        "colab": {
          "base_uri": "https://localhost:8080/"
        },
        "id": "7H83_YvADI2j",
        "outputId": "ea47cfc3-9534-48c9-c810-7ee31b4e284e"
      },
      "source": [
        "print(summarize(DOCUMENT, word_count=75, split=False))"
      ],
      "execution_count": null,
      "outputs": [
        {
          "output_type": "stream",
          "name": "stdout",
          "text": [
            "The game's main story revolves around the player character's quest to defeat Alduin the World-Eater, a dragon who is prophesied to destroy the world.\n",
            "Over the course of the game, the player completes quests and develops the character by improving skills.\n",
            "The player may freely roam over the land of Skyrim which is an open world environment consisting of wilderness expanses, dungeons, cities, towns, fortresses, and villages.\n"
          ]
        }
      ]
    },
    {
      "cell_type": "code",
      "metadata": {
        "colab": {
          "base_uri": "https://localhost:8080/"
        },
        "id": "N4ObNmxqDL1N",
        "outputId": "00692739-2525-454a-c1d1-9049533536d8"
      },
      "source": [
        "sentences = nltk.sent_tokenize(DOCUMENT)\n",
        "len(sentences)"
      ],
      "execution_count": null,
      "outputs": [
        {
          "output_type": "execute_result",
          "data": {
            "text/plain": [
              "35"
            ]
          },
          "metadata": {},
          "execution_count": 6
        }
      ]
    },
    {
      "cell_type": "markdown",
      "metadata": {
        "id": "IYICRbpcAlEn"
      },
      "source": [
        "This summarization implementation from Gensim is based on a variation of\n",
        "a popular algorithm called TextRank. "
      ]
    },
    {
      "cell_type": "markdown",
      "metadata": {
        "id": "gKc6b5HVAlEn"
      },
      "source": [
        "# Basic Text pre-processing"
      ]
    },
    {
      "cell_type": "code",
      "metadata": {
        "colab": {
          "base_uri": "https://localhost:8080/"
        },
        "id": "HWTCv0YQDPYR",
        "outputId": "31097429-dc2f-452d-9198-c5ce598c1b28"
      },
      "source": [
        "import numpy as np\n",
        "\n",
        "stop_words = nltk.corpus.stopwords.words('english')\n",
        "\n",
        "def normalize_document(doc):\n",
        "    # lower case and remove special characters\\whitespaces\n",
        "    doc = re.sub(r'[^a-zA-Z\\s]', '', doc, re.I|re.A)\n",
        "    doc = doc.lower()\n",
        "    doc = doc.strip()\n",
        "    # tokenize document\n",
        "    tokens = nltk.word_tokenize(doc)\n",
        "    # filter stopwords out of document\n",
        "    filtered_tokens = [token for token in tokens if token not in stop_words]\n",
        "    # re-create document from filtered tokens\n",
        "    doc = ' '.join(filtered_tokens)\n",
        "    return doc\n",
        "\n",
        "normalize_corpus = np.vectorize(normalize_document)\n",
        "\n",
        "norm_sentences = normalize_corpus(sentences)\n",
        "norm_sentences[:3]"
      ],
      "execution_count": null,
      "outputs": [
        {
          "output_type": "execute_result",
          "data": {
            "text/plain": [
              "array(['elder scrolls v skyrim action roleplaying video game developed bethesda game studios published bethesda softworks',\n",
              "       'fifth main installment elder scrolls series following elder scrolls iv oblivion',\n",
              "       'games main story revolves around player characters quest defeat alduin worldeater dragon prophesied destroy world'],\n",
              "      dtype='<U183')"
            ]
          },
          "metadata": {},
          "execution_count": 7
        }
      ]
    },
    {
      "cell_type": "markdown",
      "metadata": {
        "id": "Tmj8yGYJAlEo"
      },
      "source": [
        "# Text Representation with Feature Engineering\n",
        "\n",
        "We will be vectorizing our normalized sentences using the TF-IDF feature engineering\n",
        "scheme. We keep things simple and don’t filter out any words based on document\n",
        "frequency. But feel free to try that out and maybe even leverage n-grams as features."
      ]
    },
    {
      "cell_type": "code",
      "metadata": {
        "colab": {
          "base_uri": "https://localhost:8080/",
          "height": 435
        },
        "id": "-aGDxNQyDpiY",
        "outputId": "d714c22a-8683-47c0-e8af-f6154aa94cf0"
      },
      "source": [
        "from sklearn.feature_extraction.text import TfidfVectorizer\n",
        "import pandas as pd\n",
        "\n",
        "tv = TfidfVectorizer(min_df=0., max_df=1., use_idf=True)\n",
        "dt_matrix = tv.fit_transform(norm_sentences)\n",
        "dt_matrix = dt_matrix.toarray()\n",
        "\n",
        "vocab = tv.get_feature_names()\n",
        "td_matrix = dt_matrix.T\n",
        "print(td_matrix.shape)\n",
        "pd.DataFrame(np.round(td_matrix, 2), index=vocab).head(10)"
      ],
      "execution_count": null,
      "outputs": [
        {
          "output_type": "stream",
          "name": "stdout",
          "text": [
            "(270, 35)\n"
          ]
        },
        {
          "output_type": "stream",
          "name": "stderr",
          "text": [
            "/usr/local/lib/python3.7/dist-packages/sklearn/utils/deprecation.py:87: FutureWarning: Function get_feature_names is deprecated; get_feature_names is deprecated in 1.0 and will be removed in 1.2. Please use get_feature_names_out instead.\n",
            "  warnings.warn(msg, category=FutureWarning)\n"
          ]
        },
        {
          "output_type": "execute_result",
          "data": {
            "text/html": [
              "<div>\n",
              "<style scoped>\n",
              "    .dataframe tbody tr th:only-of-type {\n",
              "        vertical-align: middle;\n",
              "    }\n",
              "\n",
              "    .dataframe tbody tr th {\n",
              "        vertical-align: top;\n",
              "    }\n",
              "\n",
              "    .dataframe thead th {\n",
              "        text-align: right;\n",
              "    }\n",
              "</style>\n",
              "<table border=\"1\" class=\"dataframe\">\n",
              "  <thead>\n",
              "    <tr style=\"text-align: right;\">\n",
              "      <th></th>\n",
              "      <th>0</th>\n",
              "      <th>1</th>\n",
              "      <th>2</th>\n",
              "      <th>3</th>\n",
              "      <th>4</th>\n",
              "      <th>5</th>\n",
              "      <th>6</th>\n",
              "      <th>7</th>\n",
              "      <th>8</th>\n",
              "      <th>9</th>\n",
              "      <th>10</th>\n",
              "      <th>11</th>\n",
              "      <th>12</th>\n",
              "      <th>13</th>\n",
              "      <th>14</th>\n",
              "      <th>15</th>\n",
              "      <th>16</th>\n",
              "      <th>17</th>\n",
              "      <th>18</th>\n",
              "      <th>19</th>\n",
              "      <th>20</th>\n",
              "      <th>21</th>\n",
              "      <th>22</th>\n",
              "      <th>23</th>\n",
              "      <th>24</th>\n",
              "      <th>25</th>\n",
              "      <th>26</th>\n",
              "      <th>27</th>\n",
              "      <th>28</th>\n",
              "      <th>29</th>\n",
              "      <th>30</th>\n",
              "      <th>31</th>\n",
              "      <th>32</th>\n",
              "      <th>33</th>\n",
              "      <th>34</th>\n",
              "    </tr>\n",
              "  </thead>\n",
              "  <tbody>\n",
              "    <tr>\n",
              "      <th>ability</th>\n",
              "      <td>0.00</td>\n",
              "      <td>0.0</td>\n",
              "      <td>0.00</td>\n",
              "      <td>0.0</td>\n",
              "      <td>0.0</td>\n",
              "      <td>0.00</td>\n",
              "      <td>0.0</td>\n",
              "      <td>0.00</td>\n",
              "      <td>0.00</td>\n",
              "      <td>0.0</td>\n",
              "      <td>0.00</td>\n",
              "      <td>0.0</td>\n",
              "      <td>0.0</td>\n",
              "      <td>0.0</td>\n",
              "      <td>0.0</td>\n",
              "      <td>0.0</td>\n",
              "      <td>0.0</td>\n",
              "      <td>0.0</td>\n",
              "      <td>0.0</td>\n",
              "      <td>0.34</td>\n",
              "      <td>0.0</td>\n",
              "      <td>0.0</td>\n",
              "      <td>0.0</td>\n",
              "      <td>0.0</td>\n",
              "      <td>0.0</td>\n",
              "      <td>0.0</td>\n",
              "      <td>0.0</td>\n",
              "      <td>0.0</td>\n",
              "      <td>0.00</td>\n",
              "      <td>0.0</td>\n",
              "      <td>0.00</td>\n",
              "      <td>0.0</td>\n",
              "      <td>0.0</td>\n",
              "      <td>0.00</td>\n",
              "      <td>0.00</td>\n",
              "    </tr>\n",
              "    <tr>\n",
              "      <th>absorb</th>\n",
              "      <td>0.00</td>\n",
              "      <td>0.0</td>\n",
              "      <td>0.00</td>\n",
              "      <td>0.0</td>\n",
              "      <td>0.0</td>\n",
              "      <td>0.00</td>\n",
              "      <td>0.0</td>\n",
              "      <td>0.00</td>\n",
              "      <td>0.00</td>\n",
              "      <td>0.0</td>\n",
              "      <td>0.00</td>\n",
              "      <td>0.0</td>\n",
              "      <td>0.0</td>\n",
              "      <td>0.0</td>\n",
              "      <td>0.0</td>\n",
              "      <td>0.0</td>\n",
              "      <td>0.0</td>\n",
              "      <td>0.0</td>\n",
              "      <td>0.0</td>\n",
              "      <td>0.00</td>\n",
              "      <td>0.0</td>\n",
              "      <td>0.0</td>\n",
              "      <td>0.0</td>\n",
              "      <td>0.0</td>\n",
              "      <td>0.0</td>\n",
              "      <td>0.0</td>\n",
              "      <td>0.0</td>\n",
              "      <td>0.0</td>\n",
              "      <td>0.31</td>\n",
              "      <td>0.0</td>\n",
              "      <td>0.00</td>\n",
              "      <td>0.0</td>\n",
              "      <td>0.0</td>\n",
              "      <td>0.00</td>\n",
              "      <td>0.00</td>\n",
              "    </tr>\n",
              "    <tr>\n",
              "      <th>acclaim</th>\n",
              "      <td>0.00</td>\n",
              "      <td>0.0</td>\n",
              "      <td>0.00</td>\n",
              "      <td>0.0</td>\n",
              "      <td>0.0</td>\n",
              "      <td>0.00</td>\n",
              "      <td>0.0</td>\n",
              "      <td>0.28</td>\n",
              "      <td>0.00</td>\n",
              "      <td>0.0</td>\n",
              "      <td>0.00</td>\n",
              "      <td>0.0</td>\n",
              "      <td>0.0</td>\n",
              "      <td>0.0</td>\n",
              "      <td>0.0</td>\n",
              "      <td>0.0</td>\n",
              "      <td>0.0</td>\n",
              "      <td>0.0</td>\n",
              "      <td>0.0</td>\n",
              "      <td>0.00</td>\n",
              "      <td>0.0</td>\n",
              "      <td>0.0</td>\n",
              "      <td>0.0</td>\n",
              "      <td>0.0</td>\n",
              "      <td>0.0</td>\n",
              "      <td>0.0</td>\n",
              "      <td>0.0</td>\n",
              "      <td>0.0</td>\n",
              "      <td>0.00</td>\n",
              "      <td>0.0</td>\n",
              "      <td>0.00</td>\n",
              "      <td>0.0</td>\n",
              "      <td>0.0</td>\n",
              "      <td>0.00</td>\n",
              "      <td>0.00</td>\n",
              "    </tr>\n",
              "    <tr>\n",
              "      <th>action</th>\n",
              "      <td>0.25</td>\n",
              "      <td>0.0</td>\n",
              "      <td>0.00</td>\n",
              "      <td>0.0</td>\n",
              "      <td>0.0</td>\n",
              "      <td>0.00</td>\n",
              "      <td>0.0</td>\n",
              "      <td>0.00</td>\n",
              "      <td>0.32</td>\n",
              "      <td>0.0</td>\n",
              "      <td>0.00</td>\n",
              "      <td>0.0</td>\n",
              "      <td>0.0</td>\n",
              "      <td>0.0</td>\n",
              "      <td>0.0</td>\n",
              "      <td>0.0</td>\n",
              "      <td>0.0</td>\n",
              "      <td>0.0</td>\n",
              "      <td>0.0</td>\n",
              "      <td>0.00</td>\n",
              "      <td>0.0</td>\n",
              "      <td>0.0</td>\n",
              "      <td>0.0</td>\n",
              "      <td>0.0</td>\n",
              "      <td>0.0</td>\n",
              "      <td>0.0</td>\n",
              "      <td>0.0</td>\n",
              "      <td>0.0</td>\n",
              "      <td>0.00</td>\n",
              "      <td>0.0</td>\n",
              "      <td>0.00</td>\n",
              "      <td>0.0</td>\n",
              "      <td>0.0</td>\n",
              "      <td>0.00</td>\n",
              "      <td>0.00</td>\n",
              "    </tr>\n",
              "    <tr>\n",
              "      <th>advancement</th>\n",
              "      <td>0.00</td>\n",
              "      <td>0.0</td>\n",
              "      <td>0.00</td>\n",
              "      <td>0.0</td>\n",
              "      <td>0.0</td>\n",
              "      <td>0.00</td>\n",
              "      <td>0.0</td>\n",
              "      <td>0.28</td>\n",
              "      <td>0.00</td>\n",
              "      <td>0.0</td>\n",
              "      <td>0.00</td>\n",
              "      <td>0.0</td>\n",
              "      <td>0.0</td>\n",
              "      <td>0.0</td>\n",
              "      <td>0.0</td>\n",
              "      <td>0.0</td>\n",
              "      <td>0.0</td>\n",
              "      <td>0.0</td>\n",
              "      <td>0.0</td>\n",
              "      <td>0.00</td>\n",
              "      <td>0.0</td>\n",
              "      <td>0.0</td>\n",
              "      <td>0.0</td>\n",
              "      <td>0.0</td>\n",
              "      <td>0.0</td>\n",
              "      <td>0.0</td>\n",
              "      <td>0.0</td>\n",
              "      <td>0.0</td>\n",
              "      <td>0.00</td>\n",
              "      <td>0.0</td>\n",
              "      <td>0.00</td>\n",
              "      <td>0.0</td>\n",
              "      <td>0.0</td>\n",
              "      <td>0.00</td>\n",
              "      <td>0.00</td>\n",
              "    </tr>\n",
              "    <tr>\n",
              "      <th>akatosh</th>\n",
              "      <td>0.00</td>\n",
              "      <td>0.0</td>\n",
              "      <td>0.00</td>\n",
              "      <td>0.0</td>\n",
              "      <td>0.0</td>\n",
              "      <td>0.00</td>\n",
              "      <td>0.0</td>\n",
              "      <td>0.00</td>\n",
              "      <td>0.00</td>\n",
              "      <td>0.0</td>\n",
              "      <td>0.00</td>\n",
              "      <td>0.0</td>\n",
              "      <td>0.0</td>\n",
              "      <td>0.0</td>\n",
              "      <td>0.0</td>\n",
              "      <td>0.0</td>\n",
              "      <td>0.0</td>\n",
              "      <td>0.0</td>\n",
              "      <td>0.0</td>\n",
              "      <td>0.00</td>\n",
              "      <td>0.0</td>\n",
              "      <td>0.0</td>\n",
              "      <td>0.0</td>\n",
              "      <td>0.0</td>\n",
              "      <td>0.0</td>\n",
              "      <td>0.0</td>\n",
              "      <td>0.0</td>\n",
              "      <td>0.0</td>\n",
              "      <td>0.00</td>\n",
              "      <td>0.0</td>\n",
              "      <td>0.00</td>\n",
              "      <td>0.0</td>\n",
              "      <td>0.0</td>\n",
              "      <td>0.00</td>\n",
              "      <td>0.33</td>\n",
              "    </tr>\n",
              "    <tr>\n",
              "      <th>alduin</th>\n",
              "      <td>0.00</td>\n",
              "      <td>0.0</td>\n",
              "      <td>0.25</td>\n",
              "      <td>0.0</td>\n",
              "      <td>0.0</td>\n",
              "      <td>0.00</td>\n",
              "      <td>0.0</td>\n",
              "      <td>0.00</td>\n",
              "      <td>0.00</td>\n",
              "      <td>0.0</td>\n",
              "      <td>0.00</td>\n",
              "      <td>0.0</td>\n",
              "      <td>0.0</td>\n",
              "      <td>0.0</td>\n",
              "      <td>0.0</td>\n",
              "      <td>0.0</td>\n",
              "      <td>0.0</td>\n",
              "      <td>0.0</td>\n",
              "      <td>0.0</td>\n",
              "      <td>0.00</td>\n",
              "      <td>0.0</td>\n",
              "      <td>0.0</td>\n",
              "      <td>0.0</td>\n",
              "      <td>0.0</td>\n",
              "      <td>0.0</td>\n",
              "      <td>0.0</td>\n",
              "      <td>0.0</td>\n",
              "      <td>0.0</td>\n",
              "      <td>0.00</td>\n",
              "      <td>0.0</td>\n",
              "      <td>0.00</td>\n",
              "      <td>0.0</td>\n",
              "      <td>0.0</td>\n",
              "      <td>0.26</td>\n",
              "      <td>0.27</td>\n",
              "    </tr>\n",
              "    <tr>\n",
              "      <th>allowing</th>\n",
              "      <td>0.00</td>\n",
              "      <td>0.0</td>\n",
              "      <td>0.00</td>\n",
              "      <td>0.0</td>\n",
              "      <td>0.0</td>\n",
              "      <td>0.27</td>\n",
              "      <td>0.0</td>\n",
              "      <td>0.00</td>\n",
              "      <td>0.00</td>\n",
              "      <td>0.0</td>\n",
              "      <td>0.00</td>\n",
              "      <td>0.0</td>\n",
              "      <td>0.0</td>\n",
              "      <td>0.0</td>\n",
              "      <td>0.0</td>\n",
              "      <td>0.0</td>\n",
              "      <td>0.0</td>\n",
              "      <td>0.0</td>\n",
              "      <td>0.0</td>\n",
              "      <td>0.00</td>\n",
              "      <td>0.0</td>\n",
              "      <td>0.0</td>\n",
              "      <td>0.0</td>\n",
              "      <td>0.0</td>\n",
              "      <td>0.0</td>\n",
              "      <td>0.0</td>\n",
              "      <td>0.0</td>\n",
              "      <td>0.0</td>\n",
              "      <td>0.00</td>\n",
              "      <td>0.0</td>\n",
              "      <td>0.00</td>\n",
              "      <td>0.0</td>\n",
              "      <td>0.0</td>\n",
              "      <td>0.00</td>\n",
              "      <td>0.00</td>\n",
              "    </tr>\n",
              "    <tr>\n",
              "      <th>allows</th>\n",
              "      <td>0.00</td>\n",
              "      <td>0.0</td>\n",
              "      <td>0.00</td>\n",
              "      <td>0.0</td>\n",
              "      <td>0.0</td>\n",
              "      <td>0.00</td>\n",
              "      <td>0.0</td>\n",
              "      <td>0.00</td>\n",
              "      <td>0.00</td>\n",
              "      <td>0.0</td>\n",
              "      <td>0.27</td>\n",
              "      <td>0.0</td>\n",
              "      <td>0.0</td>\n",
              "      <td>0.0</td>\n",
              "      <td>0.0</td>\n",
              "      <td>0.0</td>\n",
              "      <td>0.0</td>\n",
              "      <td>0.0</td>\n",
              "      <td>0.0</td>\n",
              "      <td>0.00</td>\n",
              "      <td>0.0</td>\n",
              "      <td>0.0</td>\n",
              "      <td>0.0</td>\n",
              "      <td>0.0</td>\n",
              "      <td>0.0</td>\n",
              "      <td>0.0</td>\n",
              "      <td>0.0</td>\n",
              "      <td>0.0</td>\n",
              "      <td>0.00</td>\n",
              "      <td>0.0</td>\n",
              "      <td>0.00</td>\n",
              "      <td>0.0</td>\n",
              "      <td>0.0</td>\n",
              "      <td>0.00</td>\n",
              "      <td>0.00</td>\n",
              "    </tr>\n",
              "    <tr>\n",
              "      <th>although</th>\n",
              "      <td>0.00</td>\n",
              "      <td>0.0</td>\n",
              "      <td>0.00</td>\n",
              "      <td>0.0</td>\n",
              "      <td>0.0</td>\n",
              "      <td>0.00</td>\n",
              "      <td>0.0</td>\n",
              "      <td>0.00</td>\n",
              "      <td>0.00</td>\n",
              "      <td>0.0</td>\n",
              "      <td>0.00</td>\n",
              "      <td>0.0</td>\n",
              "      <td>0.0</td>\n",
              "      <td>0.0</td>\n",
              "      <td>0.0</td>\n",
              "      <td>0.0</td>\n",
              "      <td>0.0</td>\n",
              "      <td>0.0</td>\n",
              "      <td>0.0</td>\n",
              "      <td>0.00</td>\n",
              "      <td>0.0</td>\n",
              "      <td>0.0</td>\n",
              "      <td>0.0</td>\n",
              "      <td>0.0</td>\n",
              "      <td>0.0</td>\n",
              "      <td>0.0</td>\n",
              "      <td>0.0</td>\n",
              "      <td>0.0</td>\n",
              "      <td>0.00</td>\n",
              "      <td>0.0</td>\n",
              "      <td>0.33</td>\n",
              "      <td>0.0</td>\n",
              "      <td>0.0</td>\n",
              "      <td>0.00</td>\n",
              "      <td>0.00</td>\n",
              "    </tr>\n",
              "  </tbody>\n",
              "</table>\n",
              "</div>"
            ],
            "text/plain": [
              "               0    1     2    3    4     5   ...   29    30   31   32    33    34\n",
              "ability      0.00  0.0  0.00  0.0  0.0  0.00  ...  0.0  0.00  0.0  0.0  0.00  0.00\n",
              "absorb       0.00  0.0  0.00  0.0  0.0  0.00  ...  0.0  0.00  0.0  0.0  0.00  0.00\n",
              "acclaim      0.00  0.0  0.00  0.0  0.0  0.00  ...  0.0  0.00  0.0  0.0  0.00  0.00\n",
              "action       0.25  0.0  0.00  0.0  0.0  0.00  ...  0.0  0.00  0.0  0.0  0.00  0.00\n",
              "advancement  0.00  0.0  0.00  0.0  0.0  0.00  ...  0.0  0.00  0.0  0.0  0.00  0.00\n",
              "akatosh      0.00  0.0  0.00  0.0  0.0  0.00  ...  0.0  0.00  0.0  0.0  0.00  0.33\n",
              "alduin       0.00  0.0  0.25  0.0  0.0  0.00  ...  0.0  0.00  0.0  0.0  0.26  0.27\n",
              "allowing     0.00  0.0  0.00  0.0  0.0  0.27  ...  0.0  0.00  0.0  0.0  0.00  0.00\n",
              "allows       0.00  0.0  0.00  0.0  0.0  0.00  ...  0.0  0.00  0.0  0.0  0.00  0.00\n",
              "although     0.00  0.0  0.00  0.0  0.0  0.00  ...  0.0  0.33  0.0  0.0  0.00  0.00\n",
              "\n",
              "[10 rows x 35 columns]"
            ]
          },
          "metadata": {},
          "execution_count": 8
        }
      ]
    },
    {
      "cell_type": "markdown",
      "metadata": {
        "id": "IXVPQtP5AlEo"
      },
      "source": [
        "# Latent Semantic Analysis\n",
        "\n",
        "Here, we summarize our game description by utilizing document sentences. The\n",
        "terms in each sentence of the document have been extracted to form the term-document matrix, which we observed in the previous cell. \n",
        "\n",
        "We apply low-rank Singular Value Decomposition to this matrix. The core principle behind Latent Semantic Analysis (LSA) is that in any document, there exists a latent structure among terms that are related\n",
        "contextually and hence should also be correlated in the same singular space.\n",
        "\n",
        "The main idea in our implementation is to use SVD (recall M = USVT) so that U\n",
        "and V are the orthogonal matrices and S is the diagonal matrix, which can also be\n",
        "represented as a vector of the singular values. \n",
        "\n",
        "The original matrix can be represented as\n",
        "a term-document matrix where the rows are terms and each column is a document, i.e.,\n",
        "a sentence from our document in this case. The values can be any type of weighting like\n",
        "Bag of Words model-based frequencies, TF-IDFs, or binary occurrences.\n",
        "\n",
        "![](https://i.imgur.com/YtopNr3.png)"
      ]
    },
    {
      "cell_type": "code",
      "metadata": {
        "id": "gLmDllaUDxIV"
      },
      "source": [
        "from scipy.sparse.linalg import svds\n",
        "    \n",
        "def low_rank_svd(matrix, singular_count=2):\n",
        "    u, s, vt = svds(matrix, k=singular_count)\n",
        "    return u, s, vt"
      ],
      "execution_count": null,
      "outputs": []
    },
    {
      "cell_type": "code",
      "metadata": {
        "colab": {
          "base_uri": "https://localhost:8080/"
        },
        "id": "dnkxRcQ8D08f",
        "outputId": "1b584e51-79c9-4be1-dd1c-a538435adf14"
      },
      "source": [
        "num_sentences = 8\n",
        "num_topics = 3\n",
        "\n",
        "u, s, vt = low_rank_svd(td_matrix, singular_count=num_topics)  \n",
        "print(u.shape, s.shape, vt.shape)\n",
        "term_topic_mat, singular_values, topic_document_mat = u, s, vt"
      ],
      "execution_count": null,
      "outputs": [
        {
          "output_type": "stream",
          "name": "stdout",
          "text": [
            "(270, 3) (3,) (3, 35)\n"
          ]
        }
      ]
    },
    {
      "cell_type": "code",
      "metadata": {
        "id": "6Bo45Qj3D5SD"
      },
      "source": [
        "# remove singular values below threshold                                         \n",
        "sv_threshold = 0.5\n",
        "min_sigma_value = max(singular_values) * sv_threshold\n",
        "singular_values[singular_values < min_sigma_value] = 0"
      ],
      "execution_count": null,
      "outputs": []
    },
    {
      "cell_type": "code",
      "metadata": {
        "colab": {
          "base_uri": "https://localhost:8080/"
        },
        "id": "1ItEFwCXD8qk",
        "outputId": "f07707b8-1f4c-4847-904c-7bc0ba922d39"
      },
      "source": [
        "salience_scores = np.sqrt(np.dot(np.square(singular_values), \n",
        "                                 np.square(topic_document_mat)))\n",
        "salience_scores"
      ],
      "execution_count": null,
      "outputs": [
        {
          "output_type": "execute_result",
          "data": {
            "text/plain": [
              "array([0.53291263, 0.61639562, 0.60427539, 0.52307109, 0.50141128,\n",
              "       0.32352969, 0.1506046 , 0.25383436, 0.60567083, 0.35902104,\n",
              "       0.22562997, 0.34608934, 0.15781555, 0.40522541, 0.24505982,\n",
              "       0.19874104, 0.39317895, 0.45392878, 0.31638528, 0.47353378,\n",
              "       0.18348908, 0.45731421, 0.13929749, 0.38932101, 0.36829067,\n",
              "       0.57822992, 0.40853736, 0.26260062, 0.38904585, 0.32776714,\n",
              "       0.67662776, 0.21866561, 0.34687796, 0.3234621 , 0.46107093])"
            ]
          },
          "metadata": {},
          "execution_count": 12
        }
      ]
    },
    {
      "cell_type": "code",
      "metadata": {
        "id": "xn9EjCGpFRCH"
      },
      "source": [
        "top_sentence_indices = (-salience_scores).argsort()[:num_sentences]\n",
        "top_sentence_indices.sort()"
      ],
      "execution_count": null,
      "outputs": []
    },
    {
      "cell_type": "code",
      "metadata": {
        "colab": {
          "base_uri": "https://localhost:8080/"
        },
        "id": "QLjP9KgbFUNi",
        "outputId": "302e1cc7-f92c-4201-e846-621d305b46e9"
      },
      "source": [
        "print('\\n'.join(np.array(sentences)[top_sentence_indices]))"
      ],
      "execution_count": null,
      "outputs": [
        {
          "output_type": "stream",
          "name": "stdout",
          "text": [
            "The Elder Scrolls V: Skyrim is an action role-playing video game developed by Bethesda Game Studios and published by Bethesda Softworks.\n",
            "It is the fifth main installment in The Elder Scrolls series, following The Elder Scrolls IV: Oblivion.\n",
            "The game's main story revolves around the player character's quest to defeat Alduin the World-Eater, a dragon who is prophesied to destroy the world.\n",
            "The game is set 200 years after the events of Oblivion and takes place in the fictional province of Skyrim.\n",
            "Over the course of the game, the player completes quests and develops the character by improving skills.\n",
            "The Elder Scrolls V: Skyrim is an action role-playing game, playable from either a first or third-person perspective.\n",
            "Skyrim is the first entry in The Elder Scrolls to include dragons in the game's wilderness.\n",
            "Skyrim is set around 200 years after the events of The Elder Scrolls IV: Oblivion, although it is not a direct sequel.\n"
          ]
        }
      ]
    },
    {
      "cell_type": "markdown",
      "metadata": {
        "id": "GcfzwtAGAlEp"
      },
      "source": [
        "# TextRank\n",
        "\n",
        "The TextRank summarization algorithm internally uses the popular PageRank\n",
        "algorithm, which is used by Google for ranking websites and pages. This is used by the\n",
        "Google search engine when providing relevant web pages based on search queries. To\n",
        "understand TextRank better, we need to understand some of the concepts surrounding\n",
        "PageRank. The core algorithm in PageRank is a graph-based scoring or ranking\n",
        "algorithm, where pages are scored or ranked based on their importance. \n",
        "\n",
        "Websites and\n",
        "pages contain further links embedded in them which link to more pages having more\n",
        "links and this continues across the Internet. This can be represented as a graph-based\n",
        "model where vertices indicate the web pages and edges indicate links among them. This\n",
        "can be used to form a voting or recommendation system such so when one vertex links\n",
        "to another one in the graph it is basically casting a vote. \n",
        "\n",
        "Vertex importance is decided\n",
        "not only on the number of votes or edges but also the importance of the vertices that are\n",
        "connected to it and their importance. \n",
        "\n",
        "![](https://i.imgur.com/fMyJjUN.png)\n",
        "\n",
        "We can see that vertex denoting Page C has a higher score than\n",
        "Page E even if it has fewer edges compared to Page E, because Page B is an important\n",
        "page connected to Page C.\n",
        "\n",
        "For textrank we will follow a similar process leveraging pagerank\n",
        "\n",
        "![](https://i.imgur.com/kkrzeq7.png)\n",
        "\n",
        "- Tokenize and extract sentences from the document to be\n",
        "summarized.\n",
        "- Decide on the number of sentences, k, that we want in the final\n",
        "summary\n",
        "- Build a document-term feature matrix using weights like TF-IDF\n",
        "or Bag of Words.\n",
        "- Compute a document similarity matrix by multiplying the matrix\n",
        "by its transpose.\n",
        "- Use these documents (sentences in our case) as the vertices and\n",
        "the similarities between each pair of documents as the weight\n",
        "or score coefficient we talked about earlier and feed them to the\n",
        "PageRank algorithm.\n",
        "- Get the score for each sentence.\n",
        "- Rank the sentences based on score and return the top k sentences."
      ]
    },
    {
      "cell_type": "markdown",
      "metadata": {
        "id": "9UIrltpRAlEp"
      },
      "source": [
        "# Build Similarity Matrix"
      ]
    },
    {
      "cell_type": "code",
      "metadata": {
        "colab": {
          "base_uri": "https://localhost:8080/"
        },
        "id": "iwy27oUUFVwC",
        "outputId": "95cd9a06-cbf9-4b39-abdb-2b34371eaca3"
      },
      "source": [
        "similarity_matrix = np.matmul(dt_matrix, dt_matrix.T)\n",
        "print(similarity_matrix.shape)\n",
        "np.round(similarity_matrix, 3)"
      ],
      "execution_count": null,
      "outputs": [
        {
          "output_type": "stream",
          "name": "stdout",
          "text": [
            "(35, 35)\n"
          ]
        },
        {
          "output_type": "execute_result",
          "data": {
            "text/plain": [
              "array([[1.   , 0.182, 0.   , ..., 0.   , 0.   , 0.   ],\n",
              "       [0.182, 1.   , 0.05 , ..., 0.   , 0.   , 0.084],\n",
              "       [0.   , 0.05 , 1.   , ..., 0.101, 0.165, 0.319],\n",
              "       ...,\n",
              "       [0.   , 0.   , 0.101, ..., 1.   , 0.066, 0.069],\n",
              "       [0.   , 0.   , 0.165, ..., 0.066, 1.   , 0.123],\n",
              "       [0.   , 0.084, 0.319, ..., 0.069, 0.123, 1.   ]])"
            ]
          },
          "metadata": {},
          "execution_count": 15
        }
      ]
    },
    {
      "cell_type": "markdown",
      "metadata": {
        "id": "7stTsd6LAlEp"
      },
      "source": [
        "# Build Similarity Graph"
      ]
    },
    {
      "cell_type": "code",
      "metadata": {
        "colab": {
          "base_uri": "https://localhost:8080/"
        },
        "id": "3XKLLMxVFZFu",
        "outputId": "e9fef1cf-7578-4aa2-961b-84342396fe48"
      },
      "source": [
        "import networkx\n",
        "\n",
        "similarity_graph = networkx.from_numpy_array(similarity_matrix)\n",
        "similarity_graph"
      ],
      "execution_count": null,
      "outputs": [
        {
          "output_type": "execute_result",
          "data": {
            "text/plain": [
              "<networkx.classes.graph.Graph at 0x7f28d2c11c90>"
            ]
          },
          "metadata": {},
          "execution_count": 16
        }
      ]
    },
    {
      "cell_type": "code",
      "metadata": {
        "colab": {
          "base_uri": "https://localhost:8080/",
          "height": 357
        },
        "id": "s8hGp-gQFbOs",
        "outputId": "04ca95ac-95da-422a-9c86-c25d3a46d0c3"
      },
      "source": [
        "import matplotlib.pyplot as plt\n",
        "%matplotlib inline\n",
        "\n",
        "plt.figure(figsize=(12, 6))\n",
        "networkx.draw_networkx(similarity_graph, node_color='lime')"
      ],
      "execution_count": null,
      "outputs": [
        {
          "output_type": "display_data",
          "data": {
            "image/png": "[encoded data removed]",
            "text/plain": [
              "<Figure size 864x432 with 1 Axes>"
            ]
          },
          "metadata": {}
        }
      ]
    },
    {
      "cell_type": "markdown",
      "metadata": {
        "id": "lzm5Ff8XAlEp"
      },
      "source": [
        "# Get Sentence Importance Scores"
      ]
    },
    {
      "cell_type": "code",
      "metadata": {
        "colab": {
          "base_uri": "https://localhost:8080/"
        },
        "id": "l9M9Wz2lFdej",
        "outputId": "6ae02ec7-4966-42f4-feee-09c11706789d"
      },
      "source": [
        "scores = networkx.pagerank(similarity_graph)\n",
        "ranked_sentences = sorted(((score, index) for index, score \n",
        "                                            in scores.items()), \n",
        "                          reverse=True)\n",
        "ranked_sentences[:10]"
      ],
      "execution_count": null,
      "outputs": [
        {
          "output_type": "execute_result",
          "data": {
            "text/plain": [
              "[(0.037297049797214744, 2),\n",
              " (0.034908435475375886, 25),\n",
              " (0.03460086870923607, 4),\n",
              " (0.03240744530656925, 8),\n",
              " (0.03218748996523769, 28),\n",
              " (0.031836734268801445, 11),\n",
              " (0.031566658693076226, 26),\n",
              " (0.03150616293402057, 3),\n",
              " (0.031376143577383796, 5),\n",
              " (0.031123481531894214, 16)]"
            ]
          },
          "metadata": {},
          "execution_count": 18
        }
      ]
    },
    {
      "cell_type": "code",
      "metadata": {
        "id": "62NO_yc0Ff5C"
      },
      "source": [
        "top_sentence_indices = [ranked_sentences[index][1] \n",
        "                        for index in range(num_sentences)]\n",
        "top_sentence_indices.sort()"
      ],
      "execution_count": null,
      "outputs": []
    },
    {
      "cell_type": "code",
      "metadata": {
        "colab": {
          "base_uri": "https://localhost:8080/"
        },
        "id": "idmgKnTuFiyg",
        "outputId": "c3bd744e-f0a5-4abd-c3a4-22bbba81ea65"
      },
      "source": [
        "print('\\n'.join(np.array(sentences)[top_sentence_indices]))"
      ],
      "execution_count": null,
      "outputs": [
        {
          "output_type": "stream",
          "name": "stdout",
          "text": [
            "The game's main story revolves around the player character's quest to defeat Alduin the World-Eater, a dragon who is prophesied to destroy the world.\n",
            "The game is set 200 years after the events of Oblivion and takes place in the fictional province of Skyrim.\n",
            "Over the course of the game, the player completes quests and develops the character by improving skills.\n",
            "The Elder Scrolls V: Skyrim is an action role-playing game, playable from either a first or third-person perspective.\n",
            "The game's main quest can be completed or ignored at the player's preference after the first stage of the quest is finished.\n",
            "Skyrim is the first entry in The Elder Scrolls to include dragons in the game's wilderness.\n",
            "Like other creatures, dragons are generated randomly in the world and will engage in combat with NPCs, creatures and the player.\n",
            "The player character can absorb the souls of dragons in order to use powerful spells called \"dragon shouts\" or \"Thu'um\".\n"
          ]
        }
      ]
    },
    {
      "cell_type": "markdown",
      "metadata": {
        "id": "StdtwP08BQ7f"
      },
      "source": [
        "# Task-2: (30%)\n",
        "Explain the difference between the summarization techniques covered in the section above"
      ]
    },
    {
      "cell_type": "markdown",
      "metadata": {
        "id": "H5DiBMr-aZ9I"
      },
      "source": [
        "TextRank Algortithm extracts words based on frequency while TF-IDF considersthe word frequency relations to the text libary in order to extract keywords."
      ]
    },
    {
      "cell_type": "code",
      "metadata": {
        "id": "QIHbrfGyC17F"
      },
      "source": [
        ""
      ],
      "execution_count": null,
      "outputs": []
    },
    {
      "cell_type": "markdown",
      "metadata": {
        "id": "ZYbo8GFVBcz5"
      },
      "source": [
        "# Task-3: (50%)\n",
        "1. Use any other dataset to perform the steps covered in Task-1. (25%)\n",
        "2. Finally after executing, provide your analysis. (25%)"
      ]
    },
    {
      "cell_type": "code",
      "metadata": {
        "id": "HIClvXBXC2gG",
        "colab": {
          "base_uri": "https://localhost:8080/"
        },
        "outputId": "12d85407-e2dd-4290-900d-8be85af38224"
      },
      "source": [
        "document = \"Long before Sora was chosen to wield the Keyblade, there was a Keyblade War between thousands of warriors who fought over dominion of the light. In the process, the x-blade, the legendary weapon that protected Kingdom Hearts and was the basis for all Keyblades, was shattered into 20 pieces: seven fragments of pure light, which eventually become the seven princesses' hearts, and thirteen shards of darkness. This war passed down in legend until it became a fairy tale and caught the interest of Xehanort, a Keyblade Master who sought to create a new x-blade and summon Kingdom Hearts. His wild ideas put him at odds with fellow Keyblade Master Eraqus, and the two would part ways to train their own apprentices. For those who have already started Kingdom Hearts 3, a young Xehanort and Eraqus are the two men playing chess while discussing the nature of light and dark. We'll keep coming back to them. The apprentices of Xehanort and Eraqus are the protagonists of the Kingdom Hearts prequel game, Birth By Sleep, and are a major driving force in Kingdom Hearts 3. Terra and Aqua are Eraqus' apprentices, while Ventus is Xehanort's former apprentice who was nearly killed when Xehanort attempted to jumpstart a x-blade by splitting Ventus' heart into its light and dark halves. But Ventus was saved when his heart took refuge with — guess who — baby Sora! Later on, after the three Keyblade apprentices are manipulated into tragic circumstances by Xehanort, Ventus will end up taking up refuge in Sora's heart again. So by the time the first Kingdom Hearts has started, Ventus' heart is dormant inside of Sora's, Aqua is trapped in the realm of darkness, and Terra has been possessed by Xehanort and later takes on the name...Ansem.\"\n",
        "\n",
        "print(summarize(document, ratio=0.2, split=False))\n",
        "sentences = nltk.sent_tokenize(document)"
      ],
      "execution_count": null,
      "outputs": [
        {
          "output_type": "stream",
          "name": "stdout",
          "text": [
            "Later on, after the three Keyblade apprentices are manipulated into tragic circumstances by Xehanort, Ventus will end up taking up refuge in Sora's heart again.\n",
            "So by the time the first Kingdom Hearts has started, Ventus' heart is dormant inside of Sora's, Aqua is trapped in the realm of darkness, and Terra has been possessed by Xehanort and later takes on the name...Ansem.\n"
          ]
        }
      ]
    },
    {
      "cell_type": "code",
      "metadata": {
        "id": "HEcDjsLLC2i7",
        "colab": {
          "base_uri": "https://localhost:8080/"
        },
        "outputId": "f996a57a-f9a5-4746-c23d-3277bd594d9f"
      },
      "source": [
        "def normalize_document(doc):\n",
        "    # lower case and remove special characters\\whitespaces\n",
        "    doc = re.sub(r'[^a-zA-Z\\s]', '', doc, re.I|re.A)\n",
        "    doc = doc.lower()\n",
        "    doc = doc.strip()\n",
        "    # tokenize document\n",
        "    tokens = nltk.word_tokenize(doc)\n",
        "    # filter stopwords out of document\n",
        "    filtered_tokens = [token for token in tokens if token not in stop_words]\n",
        "    # re-create document from filtered tokens\n",
        "    doc = ' '.join(filtered_tokens)\n",
        "    return doc\n",
        "\n",
        "normalize_corpus = np.vectorize(normalize_document)\n",
        "\n",
        "norm_sentences = normalize_corpus(sentences)\n",
        "norm_sentences[:3]"
      ],
      "execution_count": null,
      "outputs": [
        {
          "output_type": "execute_result",
          "data": {
            "text/plain": [
              "array(['long sora chosen wield keyblade keyblade war thousands warriors fought dominion light',\n",
              "       'process xblade legendary weapon protected kingdom hearts basis keyblades shattered pieces seven fragments pure light eventually become seven princesses hearts thirteen shards darkness',\n",
              "       'war passed legend became fairy tale caught interest xehanort keyblade master sought create new xblade summon kingdom hearts'],\n",
              "      dtype='<U183')"
            ]
          },
          "metadata": {},
          "execution_count": 30
        }
      ]
    },
    {
      "cell_type": "code",
      "metadata": {
        "id": "afKX1M1FC2lx",
        "colab": {
          "base_uri": "https://localhost:8080/",
          "height": 435
        },
        "outputId": "93852160-032f-451a-9368-2145e96d21fe"
      },
      "source": [
        "tv = TfidfVectorizer(min_df=0., max_df=1., use_idf=True)\n",
        "dt_matrix = tv.fit_transform(norm_sentences)\n",
        "dt_matrix = dt_matrix.toarray()\n",
        "\n",
        "vocab = tv.get_feature_names()\n",
        "td_matrix = dt_matrix.T\n",
        "print(td_matrix.shape)\n",
        "pd.DataFrame(np.round(td_matrix, 2), index=vocab).head(10)"
      ],
      "execution_count": null,
      "outputs": [
        {
          "output_type": "stream",
          "name": "stdout",
          "text": [
            "(112, 11)\n"
          ]
        },
        {
          "output_type": "stream",
          "name": "stderr",
          "text": [
            "/usr/local/lib/python3.7/dist-packages/sklearn/utils/deprecation.py:87: FutureWarning: Function get_feature_names is deprecated; get_feature_names is deprecated in 1.0 and will be removed in 1.2. Please use get_feature_names_out instead.\n",
            "  warnings.warn(msg, category=FutureWarning)\n"
          ]
        },
        {
          "output_type": "execute_result",
          "data": {
            "text/html": [
              "<div>\n",
              "<style scoped>\n",
              "    .dataframe tbody tr th:only-of-type {\n",
              "        vertical-align: middle;\n",
              "    }\n",
              "\n",
              "    .dataframe tbody tr th {\n",
              "        vertical-align: top;\n",
              "    }\n",
              "\n",
              "    .dataframe thead th {\n",
              "        text-align: right;\n",
              "    }\n",
              "</style>\n",
              "<table border=\"1\" class=\"dataframe\">\n",
              "  <thead>\n",
              "    <tr style=\"text-align: right;\">\n",
              "      <th></th>\n",
              "      <th>0</th>\n",
              "      <th>1</th>\n",
              "      <th>2</th>\n",
              "      <th>3</th>\n",
              "      <th>4</th>\n",
              "      <th>5</th>\n",
              "      <th>6</th>\n",
              "      <th>7</th>\n",
              "      <th>8</th>\n",
              "      <th>9</th>\n",
              "      <th>10</th>\n",
              "    </tr>\n",
              "  </thead>\n",
              "  <tbody>\n",
              "    <tr>\n",
              "      <th>already</th>\n",
              "      <td>0.0</td>\n",
              "      <td>0.00</td>\n",
              "      <td>0.00</td>\n",
              "      <td>0.0</td>\n",
              "      <td>0.3</td>\n",
              "      <td>0.0</td>\n",
              "      <td>0.00</td>\n",
              "      <td>0.00</td>\n",
              "      <td>0.0</td>\n",
              "      <td>0.00</td>\n",
              "      <td>0.00</td>\n",
              "    </tr>\n",
              "    <tr>\n",
              "      <th>apprentice</th>\n",
              "      <td>0.0</td>\n",
              "      <td>0.00</td>\n",
              "      <td>0.00</td>\n",
              "      <td>0.0</td>\n",
              "      <td>0.0</td>\n",
              "      <td>0.0</td>\n",
              "      <td>0.00</td>\n",
              "      <td>0.25</td>\n",
              "      <td>0.0</td>\n",
              "      <td>0.00</td>\n",
              "      <td>0.00</td>\n",
              "    </tr>\n",
              "    <tr>\n",
              "      <th>apprentices</th>\n",
              "      <td>0.0</td>\n",
              "      <td>0.00</td>\n",
              "      <td>0.00</td>\n",
              "      <td>0.2</td>\n",
              "      <td>0.0</td>\n",
              "      <td>0.0</td>\n",
              "      <td>0.19</td>\n",
              "      <td>0.17</td>\n",
              "      <td>0.0</td>\n",
              "      <td>0.21</td>\n",
              "      <td>0.00</td>\n",
              "    </tr>\n",
              "    <tr>\n",
              "      <th>aqua</th>\n",
              "      <td>0.0</td>\n",
              "      <td>0.00</td>\n",
              "      <td>0.00</td>\n",
              "      <td>0.0</td>\n",
              "      <td>0.0</td>\n",
              "      <td>0.0</td>\n",
              "      <td>0.00</td>\n",
              "      <td>0.22</td>\n",
              "      <td>0.0</td>\n",
              "      <td>0.00</td>\n",
              "      <td>0.22</td>\n",
              "    </tr>\n",
              "    <tr>\n",
              "      <th>attempted</th>\n",
              "      <td>0.0</td>\n",
              "      <td>0.00</td>\n",
              "      <td>0.00</td>\n",
              "      <td>0.0</td>\n",
              "      <td>0.0</td>\n",
              "      <td>0.0</td>\n",
              "      <td>0.00</td>\n",
              "      <td>0.25</td>\n",
              "      <td>0.0</td>\n",
              "      <td>0.00</td>\n",
              "      <td>0.00</td>\n",
              "    </tr>\n",
              "    <tr>\n",
              "      <th>baby</th>\n",
              "      <td>0.0</td>\n",
              "      <td>0.00</td>\n",
              "      <td>0.00</td>\n",
              "      <td>0.0</td>\n",
              "      <td>0.0</td>\n",
              "      <td>0.0</td>\n",
              "      <td>0.00</td>\n",
              "      <td>0.00</td>\n",
              "      <td>0.4</td>\n",
              "      <td>0.00</td>\n",
              "      <td>0.00</td>\n",
              "    </tr>\n",
              "    <tr>\n",
              "      <th>back</th>\n",
              "      <td>0.0</td>\n",
              "      <td>0.00</td>\n",
              "      <td>0.00</td>\n",
              "      <td>0.0</td>\n",
              "      <td>0.0</td>\n",
              "      <td>0.5</td>\n",
              "      <td>0.00</td>\n",
              "      <td>0.00</td>\n",
              "      <td>0.0</td>\n",
              "      <td>0.00</td>\n",
              "      <td>0.00</td>\n",
              "    </tr>\n",
              "    <tr>\n",
              "      <th>basis</th>\n",
              "      <td>0.0</td>\n",
              "      <td>0.21</td>\n",
              "      <td>0.00</td>\n",
              "      <td>0.0</td>\n",
              "      <td>0.0</td>\n",
              "      <td>0.0</td>\n",
              "      <td>0.00</td>\n",
              "      <td>0.00</td>\n",
              "      <td>0.0</td>\n",
              "      <td>0.00</td>\n",
              "      <td>0.00</td>\n",
              "    </tr>\n",
              "    <tr>\n",
              "      <th>became</th>\n",
              "      <td>0.0</td>\n",
              "      <td>0.00</td>\n",
              "      <td>0.26</td>\n",
              "      <td>0.0</td>\n",
              "      <td>0.0</td>\n",
              "      <td>0.0</td>\n",
              "      <td>0.00</td>\n",
              "      <td>0.00</td>\n",
              "      <td>0.0</td>\n",
              "      <td>0.00</td>\n",
              "      <td>0.00</td>\n",
              "    </tr>\n",
              "    <tr>\n",
              "      <th>become</th>\n",
              "      <td>0.0</td>\n",
              "      <td>0.21</td>\n",
              "      <td>0.00</td>\n",
              "      <td>0.0</td>\n",
              "      <td>0.0</td>\n",
              "      <td>0.0</td>\n",
              "      <td>0.00</td>\n",
              "      <td>0.00</td>\n",
              "      <td>0.0</td>\n",
              "      <td>0.00</td>\n",
              "      <td>0.00</td>\n",
              "    </tr>\n",
              "  </tbody>\n",
              "</table>\n",
              "</div>"
            ],
            "text/plain": [
              "              0     1     2    3    4    5     6     7    8     9     10\n",
              "already      0.0  0.00  0.00  0.0  0.3  0.0  0.00  0.00  0.0  0.00  0.00\n",
              "apprentice   0.0  0.00  0.00  0.0  0.0  0.0  0.00  0.25  0.0  0.00  0.00\n",
              "apprentices  0.0  0.00  0.00  0.2  0.0  0.0  0.19  0.17  0.0  0.21  0.00\n",
              "aqua         0.0  0.00  0.00  0.0  0.0  0.0  0.00  0.22  0.0  0.00  0.22\n",
              "attempted    0.0  0.00  0.00  0.0  0.0  0.0  0.00  0.25  0.0  0.00  0.00\n",
              "baby         0.0  0.00  0.00  0.0  0.0  0.0  0.00  0.00  0.4  0.00  0.00\n",
              "back         0.0  0.00  0.00  0.0  0.0  0.5  0.00  0.00  0.0  0.00  0.00\n",
              "basis        0.0  0.21  0.00  0.0  0.0  0.0  0.00  0.00  0.0  0.00  0.00\n",
              "became       0.0  0.00  0.26  0.0  0.0  0.0  0.00  0.00  0.0  0.00  0.00\n",
              "become       0.0  0.21  0.00  0.0  0.0  0.0  0.00  0.00  0.0  0.00  0.00"
            ]
          },
          "metadata": {},
          "execution_count": 31
        }
      ]
    },
    {
      "cell_type": "code",
      "metadata": {
        "id": "VT7jXgaQC2oY",
        "colab": {
          "base_uri": "https://localhost:8080/"
        },
        "outputId": "b54931cb-4161-46c2-8f76-2c86fa640024"
      },
      "source": [
        "def low_rank_svd(matrix, singular_count=2):\n",
        "    u, s, vt = svds(matrix, k=singular_count)\n",
        "    return u, s, vt\n",
        "\n",
        "num_sentences = 8\n",
        "num_topics = 3\n",
        "\n",
        "u, s, vt = low_rank_svd(td_matrix, singular_count=num_topics)  \n",
        "print(u.shape, s.shape, vt.shape)\n",
        "term_topic_mat, singular_values, topic_document_mat = u, s, vt\n",
        "\n",
        "sv_threshold = 0.5\n",
        "min_sigma_value = max(singular_values) * sv_threshold\n",
        "singular_values[singular_values < min_sigma_value] = 0\n",
        "\n",
        "salience_scores = np.sqrt(np.dot(np.square(singular_values), \n",
        "                                 np.square(topic_document_mat)))\n",
        "salience_scores\n",
        "\n",
        "top_sentence_indices = (-salience_scores).argsort()[:num_sentences]\n",
        "top_sentence_indices.sort()\n",
        "\n",
        "print('\\n'.join(np.array(sentences)[top_sentence_indices]))"
      ],
      "execution_count": null,
      "outputs": [
        {
          "output_type": "stream",
          "name": "stdout",
          "text": [
            "(112, 3) (3,) (3, 11)\n",
            "Long before Sora was chosen to wield the Keyblade, there was a Keyblade War between thousands of warriors who fought over dominion of the light.\n",
            "This war passed down in legend until it became a fairy tale and caught the interest of Xehanort, a Keyblade Master who sought to create a new x-blade and summon Kingdom Hearts.\n",
            "For those who have already started Kingdom Hearts 3, a young Xehanort and Eraqus are the two men playing chess while discussing the nature of light and dark.\n",
            "The apprentices of Xehanort and Eraqus are the protagonists of the Kingdom Hearts prequel game, Birth By Sleep, and are a major driving force in Kingdom Hearts 3.\n",
            "Terra and Aqua are Eraqus' apprentices, while Ventus is Xehanort's former apprentice who was nearly killed when Xehanort attempted to jumpstart a x-blade by splitting Ventus' heart into its light and dark halves.\n",
            "But Ventus was saved when his heart took refuge with — guess who — baby Sora!\n",
            "Later on, after the three Keyblade apprentices are manipulated into tragic circumstances by Xehanort, Ventus will end up taking up refuge in Sora's heart again.\n",
            "So by the time the first Kingdom Hearts has started, Ventus' heart is dormant inside of Sora's, Aqua is trapped in the realm of darkness, and Terra has been possessed by Xehanort and later takes on the name...Ansem.\n"
          ]
        }
      ]
    },
    {
      "cell_type": "code",
      "metadata": {
        "colab": {
          "base_uri": "https://localhost:8080/",
          "height": 374
        },
        "id": "3x0PY8IIqdqQ",
        "outputId": "10db9d45-d606-4e92-e564-6426646a67ba"
      },
      "source": [
        "similarity_matrix = np.matmul(dt_matrix, dt_matrix.T)\n",
        "print(similarity_matrix.shape)\n",
        "np.round(similarity_matrix, 3)\n",
        "\n",
        "similarity_graph = networkx.from_numpy_array(similarity_matrix)\n",
        "similarity_graph\n",
        "\n",
        "plt.figure(figsize=(12, 6))\n",
        "networkx.draw_networkx(similarity_graph, node_color='lime')"
      ],
      "execution_count": null,
      "outputs": [
        {
          "output_type": "stream",
          "name": "stdout",
          "text": [
            "(11, 11)\n"
          ]
        },
        {
          "output_type": "display_data",
          "data": {
            "image/png": "[encoded data removed]",
            "text/plain": [
              "<Figure size 864x432 with 1 Axes>"
            ]
          },
          "metadata": {}
        }
      ]
    },
    {
      "cell_type": "code",
      "metadata": {
        "colab": {
          "base_uri": "https://localhost:8080/"
        },
        "id": "UART0mgXqrhl",
        "outputId": "aea7850a-3d78-49ca-ee26-b8d671441a9f"
      },
      "source": [
        "scores = networkx.pagerank(similarity_graph)\n",
        "ranked_sentences = sorted(((score, index) for index, score \n",
        "                                            in scores.items()), \n",
        "                          reverse=True)\n",
        "ranked_sentences[:10]\n",
        "\n",
        "top_sentence_indices = [ranked_sentences[index][1] \n",
        "                        for index in range(num_sentences)]\n",
        "top_sentence_indices.sort()\n",
        "\n",
        "print('\\n'.join(np.array(sentences)[top_sentence_indices]))"
      ],
      "execution_count": null,
      "outputs": [
        {
          "output_type": "stream",
          "name": "stdout",
          "text": [
            "Long before Sora was chosen to wield the Keyblade, there was a Keyblade War between thousands of warriors who fought over dominion of the light.\n",
            "This war passed down in legend until it became a fairy tale and caught the interest of Xehanort, a Keyblade Master who sought to create a new x-blade and summon Kingdom Hearts.\n",
            "For those who have already started Kingdom Hearts 3, a young Xehanort and Eraqus are the two men playing chess while discussing the nature of light and dark.\n",
            "We'll keep coming back to them.\n",
            "The apprentices of Xehanort and Eraqus are the protagonists of the Kingdom Hearts prequel game, Birth By Sleep, and are a major driving force in Kingdom Hearts 3.\n",
            "Terra and Aqua are Eraqus' apprentices, while Ventus is Xehanort's former apprentice who was nearly killed when Xehanort attempted to jumpstart a x-blade by splitting Ventus' heart into its light and dark halves.\n",
            "Later on, after the three Keyblade apprentices are manipulated into tragic circumstances by Xehanort, Ventus will end up taking up refuge in Sora's heart again.\n",
            "So by the time the first Kingdom Hearts has started, Ventus' heart is dormant inside of Sora's, Aqua is trapped in the realm of darkness, and Terra has been possessed by Xehanort and later takes on the name...Ansem.\n"
          ]
        }
      ]
    }
  ]
}